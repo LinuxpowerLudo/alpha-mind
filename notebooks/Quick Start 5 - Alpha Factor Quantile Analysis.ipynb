{
 "cells": [
  {
   "cell_type": "code",
   "execution_count": 1,
   "metadata": {},
   "outputs": [],
   "source": [
    "%matplotlib inline\n",
    "import os\n",
    "import pandas as pd\n",
    "import numpy as np\n",
    "from matplotlib import rc\n",
    "from matplotlib import pyplot as plt\n",
    "from PyFin.api import makeSchedule\n",
    "from alphamind.api import *\n",
    "from alphamind.analysis.quantileanalysis import er_quantile_analysis\n",
    "\n",
    "rc('font', **{'family': 'Microsoft YaHei', 'size': 10})\n",
    "rc('mathtext', **{'default': 'regular'})\n",
    "rc('legend', **{'frameon': False})"
   ]
  },
  {
   "cell_type": "markdown",
   "metadata": {},
   "source": [
    "## 1. 数据准备\n",
    "------------------\n",
    "\n",
    "* 股票池：沪深300\n",
    "* 因子：`EMA5D`\n",
    "* 调仓频率：5个交易日\n",
    "* 起始日：2020年1月1日\n",
    "* 终止日：2020年2月21日\n",
    "* 分位数：5"
   ]
  },
  {
   "cell_type": "code",
   "execution_count": 2,
   "metadata": {},
   "outputs": [],
   "source": [
    "engine = SqlEngine(os.environ['DB_URI'])\n",
    "universe = Universe('hs300')\n",
    "factor = 'EMA5D'\n",
    "freq = '10b'\n",
    "start_date = '2020-01-01'\n",
    "end_date = '2020-02-21'\n",
    "n_bins = 5\n",
    "neutralized_styles = industry_styles # risk_styles + industry_styles\n",
    "\n",
    "dates = makeSchedule(start_date, end_date, freq, 'china.sse')\n",
    "horizon = map_freq(freq)"
   ]
  },
  {
   "cell_type": "code",
   "execution_count": 3,
   "metadata": {},
   "outputs": [
    {
     "name": "stdout",
     "output_type": "stream",
     "text": [
      "Wall time: 1.48 s\n"
     ]
    }
   ],
   "source": [
    "%%time\n",
    "factor_data = engine.fetch_factor_range(universe, factor, dates=dates)\n",
    "risk_cov, risk_factors = engine.fetch_risk_model_range(universe, dates=dates)\n",
    "return_data = engine.fetch_dx_return_range(universe, dates=dates, horizon=horizon)\n",
    "total_data = pd.merge(factor_data, risk_factors, on=['trade_date', 'code'])\n",
    "total_data = pd.merge(total_data, return_data, on=['trade_date', 'code']).dropna()"
   ]
  },
  {
   "cell_type": "markdown",
   "metadata": {},
   "source": [
    "## 2. 分位数群组收益比较\n",
    "-----------------------"
   ]
  },
  {
   "cell_type": "code",
   "execution_count": 4,
   "metadata": {},
   "outputs": [
    {
     "data": {
      "text/html": [
       "<div>\n",
       "<style scoped>\n",
       "    .dataframe tbody tr th:only-of-type {\n",
       "        vertical-align: middle;\n",
       "    }\n",
       "\n",
       "    .dataframe tbody tr th {\n",
       "        vertical-align: top;\n",
       "    }\n",
       "\n",
       "    .dataframe thead th {\n",
       "        text-align: right;\n",
       "    }\n",
       "</style>\n",
       "<table border=\"1\" class=\"dataframe\">\n",
       "  <thead>\n",
       "    <tr style=\"text-align: right;\">\n",
       "      <th></th>\n",
       "      <th>trade_date</th>\n",
       "      <th>EMA5D</th>\n",
       "      <th>code</th>\n",
       "      <th>chgPct</th>\n",
       "      <th>secShortName</th>\n",
       "      <th>srisk</th>\n",
       "      <th>BETA</th>\n",
       "      <th>MOMENTUM</th>\n",
       "      <th>SIZE</th>\n",
       "      <th>EARNYILD</th>\n",
       "      <th>...</th>\n",
       "      <th>AgriForest</th>\n",
       "      <th>CHEM</th>\n",
       "      <th>Media</th>\n",
       "      <th>IronSteel</th>\n",
       "      <th>NonBankFinan</th>\n",
       "      <th>ELECEQP</th>\n",
       "      <th>AERODEF</th>\n",
       "      <th>Conglomerates</th>\n",
       "      <th>COUNTRY</th>\n",
       "      <th>dx</th>\n",
       "    </tr>\n",
       "  </thead>\n",
       "  <tbody>\n",
       "    <tr>\n",
       "      <th>0</th>\n",
       "      <td>2020-01-02</td>\n",
       "      <td>12.369556</td>\n",
       "      <td>2010000001</td>\n",
       "      <td>0.8084</td>\n",
       "      <td>浦发银行</td>\n",
       "      <td>11.256</td>\n",
       "      <td>-1.573</td>\n",
       "      <td>0.091</td>\n",
       "      <td>2.229</td>\n",
       "      <td>1.438</td>\n",
       "      <td>...</td>\n",
       "      <td>0</td>\n",
       "      <td>0</td>\n",
       "      <td>0</td>\n",
       "      <td>0</td>\n",
       "      <td>0</td>\n",
       "      <td>0</td>\n",
       "      <td>0</td>\n",
       "      <td>0</td>\n",
       "      <td>1</td>\n",
       "      <td>-0.021890</td>\n",
       "    </tr>\n",
       "    <tr>\n",
       "      <th>1</th>\n",
       "      <td>2020-01-02</td>\n",
       "      <td>17.593333</td>\n",
       "      <td>2010000005</td>\n",
       "      <td>0.4011</td>\n",
       "      <td>白云机场</td>\n",
       "      <td>31.901</td>\n",
       "      <td>-0.293</td>\n",
       "      <td>0.405</td>\n",
       "      <td>0.064</td>\n",
       "      <td>-0.567</td>\n",
       "      <td>...</td>\n",
       "      <td>0</td>\n",
       "      <td>0</td>\n",
       "      <td>0</td>\n",
       "      <td>0</td>\n",
       "      <td>0</td>\n",
       "      <td>0</td>\n",
       "      <td>0</td>\n",
       "      <td>0</td>\n",
       "      <td>1</td>\n",
       "      <td>0.006826</td>\n",
       "    </tr>\n",
       "    <tr>\n",
       "      <th>2</th>\n",
       "      <td>2020-01-02</td>\n",
       "      <td>77.804889</td>\n",
       "      <td>2010000010</td>\n",
       "      <td>-1.7651</td>\n",
       "      <td>上海机场</td>\n",
       "      <td>17.900</td>\n",
       "      <td>-1.556</td>\n",
       "      <td>0.733</td>\n",
       "      <td>1.388</td>\n",
       "      <td>-0.586</td>\n",
       "      <td>...</td>\n",
       "      <td>0</td>\n",
       "      <td>0</td>\n",
       "      <td>0</td>\n",
       "      <td>0</td>\n",
       "      <td>0</td>\n",
       "      <td>0</td>\n",
       "      <td>0</td>\n",
       "      <td>0</td>\n",
       "      <td>1</td>\n",
       "      <td>-0.051323</td>\n",
       "    </tr>\n",
       "    <tr>\n",
       "      <th>3</th>\n",
       "      <td>2020-01-02</td>\n",
       "      <td>1.318889</td>\n",
       "      <td>2010000011</td>\n",
       "      <td>0.7576</td>\n",
       "      <td>包钢股份</td>\n",
       "      <td>17.841</td>\n",
       "      <td>-0.676</td>\n",
       "      <td>-1.499</td>\n",
       "      <td>0.545</td>\n",
       "      <td>-0.702</td>\n",
       "      <td>...</td>\n",
       "      <td>0</td>\n",
       "      <td>0</td>\n",
       "      <td>0</td>\n",
       "      <td>1</td>\n",
       "      <td>0</td>\n",
       "      <td>0</td>\n",
       "      <td>0</td>\n",
       "      <td>0</td>\n",
       "      <td>1</td>\n",
       "      <td>-0.015151</td>\n",
       "    </tr>\n",
       "    <tr>\n",
       "      <th>4</th>\n",
       "      <td>2020-01-02</td>\n",
       "      <td>5.628444</td>\n",
       "      <td>2010000012</td>\n",
       "      <td>1.0753</td>\n",
       "      <td>华能国际</td>\n",
       "      <td>20.390</td>\n",
       "      <td>-2.111</td>\n",
       "      <td>-0.561</td>\n",
       "      <td>0.900</td>\n",
       "      <td>1.159</td>\n",
       "      <td>...</td>\n",
       "      <td>0</td>\n",
       "      <td>0</td>\n",
       "      <td>0</td>\n",
       "      <td>0</td>\n",
       "      <td>0</td>\n",
       "      <td>0</td>\n",
       "      <td>0</td>\n",
       "      <td>0</td>\n",
       "      <td>1</td>\n",
       "      <td>-0.017889</td>\n",
       "    </tr>\n",
       "    <tr>\n",
       "      <th>...</th>\n",
       "      <td>...</td>\n",
       "      <td>...</td>\n",
       "      <td>...</td>\n",
       "      <td>...</td>\n",
       "      <td>...</td>\n",
       "      <td>...</td>\n",
       "      <td>...</td>\n",
       "      <td>...</td>\n",
       "      <td>...</td>\n",
       "      <td>...</td>\n",
       "      <td>...</td>\n",
       "      <td>...</td>\n",
       "      <td>...</td>\n",
       "      <td>...</td>\n",
       "      <td>...</td>\n",
       "      <td>...</td>\n",
       "      <td>...</td>\n",
       "      <td>...</td>\n",
       "      <td>...</td>\n",
       "      <td>...</td>\n",
       "      <td>...</td>\n",
       "    </tr>\n",
       "    <tr>\n",
       "      <th>1195</th>\n",
       "      <td>2020-02-21</td>\n",
       "      <td>5.716444</td>\n",
       "      <td>2010030709</td>\n",
       "      <td>-1.3605</td>\n",
       "      <td>青农商行</td>\n",
       "      <td>23.743</td>\n",
       "      <td>0.641</td>\n",
       "      <td>-1.647</td>\n",
       "      <td>-0.063</td>\n",
       "      <td>-0.006</td>\n",
       "      <td>...</td>\n",
       "      <td>0</td>\n",
       "      <td>0</td>\n",
       "      <td>0</td>\n",
       "      <td>0</td>\n",
       "      <td>0</td>\n",
       "      <td>0</td>\n",
       "      <td>0</td>\n",
       "      <td>0</td>\n",
       "      <td>1</td>\n",
       "      <td>0.001723</td>\n",
       "    </tr>\n",
       "    <tr>\n",
       "      <th>1196</th>\n",
       "      <td>2020-02-21</td>\n",
       "      <td>8.934889</td>\n",
       "      <td>2010030989</td>\n",
       "      <td>-0.5543</td>\n",
       "      <td>宝丰能源</td>\n",
       "      <td>22.830</td>\n",
       "      <td>-0.527</td>\n",
       "      <td>-0.799</td>\n",
       "      <td>0.592</td>\n",
       "      <td>0.306</td>\n",
       "      <td>...</td>\n",
       "      <td>0</td>\n",
       "      <td>0</td>\n",
       "      <td>0</td>\n",
       "      <td>0</td>\n",
       "      <td>0</td>\n",
       "      <td>0</td>\n",
       "      <td>0</td>\n",
       "      <td>0</td>\n",
       "      <td>1</td>\n",
       "      <td>0.183807</td>\n",
       "    </tr>\n",
       "    <tr>\n",
       "      <th>1197</th>\n",
       "      <td>2020-02-21</td>\n",
       "      <td>19.604889</td>\n",
       "      <td>2010031146</td>\n",
       "      <td>4.2017</td>\n",
       "      <td>红塔证券</td>\n",
       "      <td>41.036</td>\n",
       "      <td>1.805</td>\n",
       "      <td>-0.565</td>\n",
       "      <td>0.732</td>\n",
       "      <td>-1.571</td>\n",
       "      <td>...</td>\n",
       "      <td>0</td>\n",
       "      <td>0</td>\n",
       "      <td>0</td>\n",
       "      <td>0</td>\n",
       "      <td>1</td>\n",
       "      <td>0</td>\n",
       "      <td>0</td>\n",
       "      <td>0</td>\n",
       "      <td>1</td>\n",
       "      <td>0.158883</td>\n",
       "    </tr>\n",
       "    <tr>\n",
       "      <th>1198</th>\n",
       "      <td>2020-02-21</td>\n",
       "      <td>2.659778</td>\n",
       "      <td>2010031199</td>\n",
       "      <td>-0.7380</td>\n",
       "      <td>海油发展</td>\n",
       "      <td>21.980</td>\n",
       "      <td>-0.545</td>\n",
       "      <td>-0.857</td>\n",
       "      <td>-0.214</td>\n",
       "      <td>-0.270</td>\n",
       "      <td>...</td>\n",
       "      <td>0</td>\n",
       "      <td>0</td>\n",
       "      <td>0</td>\n",
       "      <td>0</td>\n",
       "      <td>0</td>\n",
       "      <td>0</td>\n",
       "      <td>0</td>\n",
       "      <td>0</td>\n",
       "      <td>1</td>\n",
       "      <td>-0.007462</td>\n",
       "    </tr>\n",
       "    <tr>\n",
       "      <th>1199</th>\n",
       "      <td>2020-02-21</td>\n",
       "      <td>20.041111</td>\n",
       "      <td>2010031229</td>\n",
       "      <td>0.9023</td>\n",
       "      <td>中国卫通</td>\n",
       "      <td>66.015</td>\n",
       "      <td>0.667</td>\n",
       "      <td>-0.514</td>\n",
       "      <td>0.777</td>\n",
       "      <td>-1.358</td>\n",
       "      <td>...</td>\n",
       "      <td>0</td>\n",
       "      <td>0</td>\n",
       "      <td>0</td>\n",
       "      <td>0</td>\n",
       "      <td>0</td>\n",
       "      <td>0</td>\n",
       "      <td>1</td>\n",
       "      <td>0</td>\n",
       "      <td>1</td>\n",
       "      <td>-0.118528</td>\n",
       "    </tr>\n",
       "  </tbody>\n",
       "</table>\n",
       "<p>1199 rows × 46 columns</p>\n",
       "</div>"
      ],
      "text/plain": [
       "     trade_date      EMA5D        code  chgPct secShortName   srisk   BETA  \\\n",
       "0    2020-01-02  12.369556  2010000001  0.8084         浦发银行  11.256 -1.573   \n",
       "1    2020-01-02  17.593333  2010000005  0.4011         白云机场  31.901 -0.293   \n",
       "2    2020-01-02  77.804889  2010000010 -1.7651         上海机场  17.900 -1.556   \n",
       "3    2020-01-02   1.318889  2010000011  0.7576         包钢股份  17.841 -0.676   \n",
       "4    2020-01-02   5.628444  2010000012  1.0753         华能国际  20.390 -2.111   \n",
       "...         ...        ...         ...     ...          ...     ...    ...   \n",
       "1195 2020-02-21   5.716444  2010030709 -1.3605         青农商行  23.743  0.641   \n",
       "1196 2020-02-21   8.934889  2010030989 -0.5543         宝丰能源  22.830 -0.527   \n",
       "1197 2020-02-21  19.604889  2010031146  4.2017         红塔证券  41.036  1.805   \n",
       "1198 2020-02-21   2.659778  2010031199 -0.7380         海油发展  21.980 -0.545   \n",
       "1199 2020-02-21  20.041111  2010031229  0.9023         中国卫通  66.015  0.667   \n",
       "\n",
       "      MOMENTUM   SIZE  EARNYILD  ...  AgriForest  CHEM  Media  IronSteel  \\\n",
       "0        0.091  2.229     1.438  ...           0     0      0          0   \n",
       "1        0.405  0.064    -0.567  ...           0     0      0          0   \n",
       "2        0.733  1.388    -0.586  ...           0     0      0          0   \n",
       "3       -1.499  0.545    -0.702  ...           0     0      0          1   \n",
       "4       -0.561  0.900     1.159  ...           0     0      0          0   \n",
       "...        ...    ...       ...  ...         ...   ...    ...        ...   \n",
       "1195    -1.647 -0.063    -0.006  ...           0     0      0          0   \n",
       "1196    -0.799  0.592     0.306  ...           0     0      0          0   \n",
       "1197    -0.565  0.732    -1.571  ...           0     0      0          0   \n",
       "1198    -0.857 -0.214    -0.270  ...           0     0      0          0   \n",
       "1199    -0.514  0.777    -1.358  ...           0     0      0          0   \n",
       "\n",
       "      NonBankFinan  ELECEQP  AERODEF  Conglomerates  COUNTRY        dx  \n",
       "0                0        0        0              0        1 -0.021890  \n",
       "1                0        0        0              0        1  0.006826  \n",
       "2                0        0        0              0        1 -0.051323  \n",
       "3                0        0        0              0        1 -0.015151  \n",
       "4                0        0        0              0        1 -0.017889  \n",
       "...            ...      ...      ...            ...      ...       ...  \n",
       "1195             0        0        0              0        1  0.001723  \n",
       "1196             0        0        0              0        1  0.183807  \n",
       "1197             1        0        0              0        1  0.158883  \n",
       "1198             0        0        0              0        1 -0.007462  \n",
       "1199             0        0        1              0        1 -0.118528  \n",
       "\n",
       "[1199 rows x 46 columns]"
      ]
     },
     "execution_count": 4,
     "metadata": {},
     "output_type": "execute_result"
    }
   ],
   "source": [
    "total_data"
   ]
  },
  {
   "cell_type": "code",
   "execution_count": 5,
   "metadata": {},
   "outputs": [],
   "source": [
    "neutralized_factors = neutralize(total_data[neutralized_styles].values.astype(float),\n",
    "                                 total_data['EMA5D'].values,\n",
    "                                 groups=total_data['trade_date'].values)\n",
    "total_data['neutralized_factors'] = neutralized_factors"
   ]
  },
  {
   "cell_type": "code",
   "execution_count": 6,
   "metadata": {},
   "outputs": [
    {
     "name": "stdout",
     "output_type": "stream",
     "text": [
      "Wall time: 685 ms\n"
     ]
    }
   ],
   "source": [
    "%%time\n",
    "\n",
    "df = pd.DataFrame(columns=['q' + str(i) for i in range(1, n_bins+1)])\n",
    "\n",
    "grouped = total_data.groupby('trade_date')\n",
    "for k, g in grouped:\n",
    "    er = g['neutralized_factors'].values\n",
    "    dx_return = g['dx'].values\n",
    "    res = er_quantile_analysis(er, n_bins=n_bins, dx_return=dx_return, de_trend=True)\n",
    "    df.loc[k, :] = res"
   ]
  },
  {
   "cell_type": "code",
   "execution_count": 7,
   "metadata": {},
   "outputs": [
    {
     "data": {
      "text/plain": [
       "<AxesSubplot:>"
      ]
     },
     "execution_count": 7,
     "metadata": {},
     "output_type": "execute_result"
    },
    {
     "data": {
      "image/png": "[encoded data removed]",
      "text/plain": [
       "<Figure size 1008x504 with 1 Axes>"
      ]
     },
     "metadata": {
      "needs_background": "light"
     },
     "output_type": "display_data"
    }
   ],
   "source": [
    "df.cumsum().plot(figsize=(14, 7))"
   ]
  },
  {
   "cell_type": "code",
   "execution_count": 8,
   "metadata": {},
   "outputs": [
    {
     "data": {
      "text/plain": [
       "<AxesSubplot:>"
      ]
     },
     "execution_count": 8,
     "metadata": {},
     "output_type": "execute_result"
    },
    {
     "data": {
      "image/png": "[encoded data removed]",
      "text/plain": [
       "<Figure size 1008x504 with 1 Axes>"
      ]
     },
     "metadata": {
      "needs_background": "light"
     },
     "output_type": "display_data"
    }
   ],
   "source": [
    "ret_yearly = df.groupby(df.index.year).sum()\n",
    "ret_yearly.plot(kind='bar', figsize=(14, 7))"
   ]
  },
  {
   "cell_type": "code",
   "execution_count": 9,
   "metadata": {},
   "outputs": [
    {
     "data": {
      "text/plain": [
       "<AxesSubplot:>"
      ]
     },
     "execution_count": 9,
     "metadata": {},
     "output_type": "execute_result"
    },
    {
     "data": {
      "image/png": "[encoded data removed]",
      "text/plain": [
       "<Figure size 1008x504 with 1 Axes>"
      ]
     },
     "metadata": {
      "needs_background": "light"
     },
     "output_type": "display_data"
    }
   ],
   "source": [
    "(df.mean() * 50).plot(kind='bar', figsize=(14, 7), color='orange')"
   ]
  },
  {
   "cell_type": "code",
   "execution_count": null,
   "metadata": {},
   "outputs": [],
   "source": []
  }
 ],
 "metadata": {
  "kernelspec": {
   "display_name": "Python [conda env:alpha-mind]",
   "language": "python",
   "name": "conda-env-alpha-mind-py"
  },
  "language_info": {
   "codemirror_mode": {
    "name": "ipython",
    "version": 3
   },
   "file_extension": ".py",
   "mimetype": "text/x-python",
   "name": "python",
   "nbconvert_exporter": "python",
   "pygments_lexer": "ipython3",
   "version": "3.7.9"
  }
 },
 "nbformat": 4,
 "nbformat_minor": 4
}
