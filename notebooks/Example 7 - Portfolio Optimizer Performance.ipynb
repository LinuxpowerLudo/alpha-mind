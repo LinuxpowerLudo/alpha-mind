{
 "cells": [
  {
   "cell_type": "markdown",
   "metadata": {},
   "source": [
    "* 比较不同组合组合优化器在不同规模问题上的性能；\n",
    "\n",
    "* 下面的结果主要比较``alphamind``和``python``中其他优化器的性能差别，我们将尽可能使用``cvxopt``中的优化器，其次选择``scipy``；\n",
    "\n",
    "* 由于``scipy``在``ashare_ex``上面性能太差，所以一般忽略``scipy``在这个股票池上的表现；\n",
    "\n",
    "* 时间单位都是毫秒。\n",
    "\n",
    "* 请在环境变量中设置`DB_URI`指向数据库"
   ]
  },
  {
   "cell_type": "code",
   "execution_count": 1,
   "metadata": {},
   "outputs": [],
   "source": [
    "import os\n",
    "import timeit\n",
    "import numpy as np\n",
    "import pandas as pd\n",
    "import cvxpy\n",
    "from alphamind.api import *\n",
    "from alphamind.portfolio.linearbuilder import linear_builder\n",
    "from alphamind.portfolio.meanvariancebuilder import mean_variance_builder\n",
    "from alphamind.portfolio.meanvariancebuilder import target_vol_builder\n",
    "\n",
    "pd.options.display.float_format = '{:,.2f}'.format"
   ]
  },
  {
   "cell_type": "markdown",
   "metadata": {},
   "source": [
    "## 0. 数据准备\n",
    "------------------"
   ]
  },
  {
   "cell_type": "code",
   "execution_count": 4,
   "metadata": {},
   "outputs": [],
   "source": [
    "ref_date = '2020-01-02'\n",
    "u_names = ['hs300']\n",
    "b_codes = [300]\n",
    "risk_model = 'short'\n",
    "factor = 'EMA5D'\n",
    "lb = 0.0\n",
    "ub = 0.1\n",
    "data_source = os.environ['DB_URI']\n",
    "engine = SqlEngine(data_source)\n",
    "\n",
    "universes = [Universe(u_name) for u_name in u_names]\n",
    "codes_set = [engine.fetch_codes(ref_date, universe=universe) for universe in universes]\n",
    "data_set = [engine.fetch_data(ref_date, factor, codes, benchmark=b_code, risk_model=risk_model) for codes, b_code in zip(codes_set, b_codes)]"
   ]
  },
  {
   "cell_type": "markdown",
   "metadata": {},
   "source": [
    "## 1. 线性优化（带线性限制条件）\n",
    "---------------------------------"
   ]
  },
  {
   "cell_type": "code",
   "execution_count": 5,
   "metadata": {},
   "outputs": [
    {
     "ename": "PortfolioBuilderException",
     "evalue": "3",
     "output_type": "error",
     "traceback": [
      "\u001b[1;31m---------------------------------------------------------------------------\u001b[0m",
      "\u001b[1;31mPortfolioBuilderException\u001b[0m                 Traceback (most recent call last)",
      "\u001b[1;32m<ipython-input-5-5d07b462ee32>\u001b[0m in \u001b[0;36m<module>\u001b[1;34m\u001b[0m\n\u001b[0;32m     13\u001b[0m     \u001b[0mrisk_target\u001b[0m \u001b[1;33m=\u001b[0m \u001b[1;33m(\u001b[0m\u001b[0mnp\u001b[0m\u001b[1;33m.\u001b[0m\u001b[0marray\u001b[0m\u001b[1;33m(\u001b[0m\u001b[1;33m[\u001b[0m\u001b[1;36m1.\u001b[0m\u001b[1;33m]\u001b[0m\u001b[1;33m)\u001b[0m\u001b[1;33m,\u001b[0m \u001b[0mnp\u001b[0m\u001b[1;33m.\u001b[0m\u001b[0marray\u001b[0m\u001b[1;33m(\u001b[0m\u001b[1;33m[\u001b[0m\u001b[1;36m1.\u001b[0m\u001b[1;33m]\u001b[0m\u001b[1;33m)\u001b[0m\u001b[1;33m)\u001b[0m\u001b[1;33m\u001b[0m\u001b[1;33m\u001b[0m\u001b[0m\n\u001b[0;32m     14\u001b[0m \u001b[1;33m\u001b[0m\u001b[0m\n\u001b[1;32m---> 15\u001b[1;33m     \u001b[0mstatus\u001b[0m\u001b[1;33m,\u001b[0m \u001b[0my\u001b[0m\u001b[1;33m,\u001b[0m \u001b[0mx1\u001b[0m \u001b[1;33m=\u001b[0m \u001b[0mlinear_builder\u001b[0m\u001b[1;33m(\u001b[0m\u001b[0mer\u001b[0m\u001b[1;33m,\u001b[0m \u001b[0mlbound\u001b[0m\u001b[1;33m,\u001b[0m \u001b[0mubound\u001b[0m\u001b[1;33m,\u001b[0m \u001b[0mrisk_constraints\u001b[0m\u001b[1;33m,\u001b[0m \u001b[0mrisk_target\u001b[0m\u001b[1;33m)\u001b[0m\u001b[1;33m\u001b[0m\u001b[1;33m\u001b[0m\u001b[0m\n\u001b[0m\u001b[0;32m     16\u001b[0m     \u001b[0melasped_time1\u001b[0m \u001b[1;33m=\u001b[0m \u001b[0mtimeit\u001b[0m\u001b[1;33m.\u001b[0m\u001b[0mtimeit\u001b[0m\u001b[1;33m(\u001b[0m\u001b[1;34m\"linear_builder(er, lbound, ubound, risk_constraints, risk_target)\"\u001b[0m\u001b[1;33m,\u001b[0m \u001b[0mnumber\u001b[0m\u001b[1;33m=\u001b[0m\u001b[0mnumber\u001b[0m\u001b[1;33m,\u001b[0m \u001b[0mglobals\u001b[0m\u001b[1;33m=\u001b[0m\u001b[0mglobals\u001b[0m\u001b[1;33m(\u001b[0m\u001b[1;33m)\u001b[0m\u001b[1;33m)\u001b[0m \u001b[1;33m/\u001b[0m \u001b[0mnumber\u001b[0m \u001b[1;33m*\u001b[0m \u001b[1;36m1000\u001b[0m\u001b[1;33m\u001b[0m\u001b[1;33m\u001b[0m\u001b[0m\n\u001b[0;32m     17\u001b[0m \u001b[1;33m\u001b[0m\u001b[0m\n",
      "\u001b[1;32mD:\\ProgramData\\Anaconda3\\envs\\alpha-mind\\lib\\site-packages\\alpha_mind-0.2.3-py3.7-win-amd64.egg\\alphamind\\portfolio\\linearbuilder.py\u001b[0m in \u001b[0;36mlinear_builder\u001b[1;34m(er, lbound, ubound, risk_constraints, risk_target, turn_over_target, current_position, method)\u001b[0m\n\u001b[0;32m     46\u001b[0m             \u001b[1;32mreturn\u001b[0m \u001b[1;34m'optimal'\u001b[0m\u001b[1;33m,\u001b[0m \u001b[0mprob\u001b[0m\u001b[1;33m.\u001b[0m\u001b[0mfeval\u001b[0m\u001b[1;33m(\u001b[0m\u001b[1;33m)\u001b[0m\u001b[1;33m,\u001b[0m \u001b[0mprob\u001b[0m\u001b[1;33m.\u001b[0m\u001b[0mx_value\u001b[0m\u001b[1;33m(\u001b[0m\u001b[1;33m)\u001b[0m\u001b[1;33m\u001b[0m\u001b[1;33m\u001b[0m\u001b[0m\n\u001b[0;32m     47\u001b[0m         \u001b[1;32melse\u001b[0m\u001b[1;33m:\u001b[0m\u001b[1;33m\u001b[0m\u001b[1;33m\u001b[0m\u001b[0m\n\u001b[1;32m---> 48\u001b[1;33m             \u001b[1;32mraise\u001b[0m \u001b[0mPortfolioBuilderException\u001b[0m\u001b[1;33m(\u001b[0m\u001b[0mprob\u001b[0m\u001b[1;33m.\u001b[0m\u001b[0mstatus\u001b[0m\u001b[1;33m(\u001b[0m\u001b[1;33m)\u001b[0m\u001b[1;33m)\u001b[0m\u001b[1;33m\u001b[0m\u001b[1;33m\u001b[0m\u001b[0m\n\u001b[0m\u001b[0;32m     49\u001b[0m     \u001b[1;32melse\u001b[0m\u001b[1;33m:\u001b[0m\u001b[1;33m\u001b[0m\u001b[1;33m\u001b[0m\u001b[0m\n\u001b[0;32m     50\u001b[0m         \u001b[1;32mif\u001b[0m \u001b[0mmethod\u001b[0m \u001b[1;32min\u001b[0m \u001b[1;33m(\u001b[0m\u001b[1;34m\"simplex\"\u001b[0m\u001b[1;33m,\u001b[0m \u001b[1;34m\"interior\"\u001b[0m\u001b[1;33m)\u001b[0m\u001b[1;33m:\u001b[0m\u001b[1;33m\u001b[0m\u001b[1;33m\u001b[0m\u001b[0m\n",
      "\u001b[1;31mPortfolioBuilderException\u001b[0m: 3"
     ]
    }
   ],
   "source": [
    "df = pd.DataFrame(columns=u_names, index=['cvxpy', 'alphamind'])\n",
    "\n",
    "number = 1\n",
    "\n",
    "for u_name, sample_data in zip(u_names, data_set):\n",
    "    factor_data = sample_data['factor']\n",
    "    er = factor_data[factor].values\n",
    "    n = len(er)\n",
    "    lbound = np.ones(n) * lb\n",
    "    ubound = np.ones(n) * ub\n",
    "    \n",
    "    risk_constraints = np.ones((n, 1))\n",
    "    risk_target = (np.array([1.]), np.array([1.]))\n",
    "\n",
    "    status, y, x1 = linear_builder(er, lbound, ubound, risk_constraints, risk_target)\n",
    "    elasped_time1 = timeit.timeit(\"linear_builder(er, lbound, ubound, risk_constraints, risk_target)\", number=number, globals=globals()) / number * 1000\n",
    "\n",
    "    A_eq = risk_constraints.T\n",
    "    b_eq = np.array([1.])\n",
    "    \n",
    "    w = cvxpy.Variable(n)\n",
    "    curr_risk_exposure = w * risk_constraints\n",
    "    \n",
    "    constraints = [w >= lbound,\n",
    "                   w <= ubound,\n",
    "                   curr_risk_exposure == risk_target[0]]\n",
    "    \n",
    "    objective = cvxpy.Minimize(-w.T * er)\n",
    "    prob = cvxpy.Problem(objective, constraints)\n",
    "    \n",
    "    prob.solve(solver='ECOS')\n",
    "    elasped_time2 = timeit.timeit(\"prob.solve(solver='ECOS')\",\n",
    "                                  number=number, globals=globals()) / number * 1000\n",
    "\n",
    "    np.testing.assert_almost_equal(x1 @ er, np.array(w.value).flatten() @ er, 4)\n",
    "\n",
    "    df.loc['alphamind', u_name] = elasped_time1\n",
    "    df.loc['cvxpy', u_name] = elasped_time2\n",
    "    alpha_logger.info(f\"{u_name} is finished\")"
   ]
  },
  {
   "cell_type": "code",
   "execution_count": null,
   "metadata": {},
   "outputs": [],
   "source": [
    "df"
   ]
  },
  {
   "cell_type": "code",
   "execution_count": 6,
   "metadata": {},
   "outputs": [
    {
     "ename": "NameError",
     "evalue": "name 'prob' is not defined",
     "output_type": "error",
     "traceback": [
      "\u001b[1;31m---------------------------------------------------------------------------\u001b[0m",
      "\u001b[1;31mNameError\u001b[0m                                 Traceback (most recent call last)",
      "\u001b[1;32m<ipython-input-6-3b5570823a9d>\u001b[0m in \u001b[0;36m<module>\u001b[1;34m\u001b[0m\n\u001b[1;32m----> 1\u001b[1;33m \u001b[0mprob\u001b[0m\u001b[1;33m.\u001b[0m\u001b[0mvalue\u001b[0m\u001b[1;33m\u001b[0m\u001b[1;33m\u001b[0m\u001b[0m\n\u001b[0m",
      "\u001b[1;31mNameError\u001b[0m: name 'prob' is not defined"
     ]
    }
   ],
   "source": [
    "prob.value"
   ]
  },
  {
   "cell_type": "markdown",
   "metadata": {},
   "source": [
    "## 2. 线性优化（带L1限制条件）\n",
    "-----------------------"
   ]
  },
  {
   "cell_type": "code",
   "execution_count": 8,
   "metadata": {},
   "outputs": [
    {
     "ename": "PortfolioBuilderException",
     "evalue": "3",
     "output_type": "error",
     "traceback": [
      "\u001b[1;31m---------------------------------------------------------------------------\u001b[0m",
      "\u001b[1;31mPortfolioBuilderException\u001b[0m                 Traceback (most recent call last)",
      "\u001b[1;32m<ipython-input-8-0fed6a1bf8d5>\u001b[0m in \u001b[0;36m<module>\u001b[1;34m\u001b[0m\n\u001b[0;32m     27\u001b[0m                                    \u001b[0mturn_over_target\u001b[0m\u001b[1;33m=\u001b[0m\u001b[0mturn_over_target\u001b[0m\u001b[1;33m,\u001b[0m\u001b[1;33m\u001b[0m\u001b[1;33m\u001b[0m\u001b[0m\n\u001b[0;32m     28\u001b[0m                                    \u001b[0mcurrent_position\u001b[0m\u001b[1;33m=\u001b[0m\u001b[0mcurrent_position\u001b[0m\u001b[1;33m,\u001b[0m\u001b[1;33m\u001b[0m\u001b[1;33m\u001b[0m\u001b[0m\n\u001b[1;32m---> 29\u001b[1;33m                                    method='interior')\n\u001b[0m\u001b[0;32m     30\u001b[0m     elasped_time1 = timeit.timeit(\"\"\"linear_builder(er,\n\u001b[0;32m     31\u001b[0m                                                     \u001b[0mlbound\u001b[0m\u001b[1;33m,\u001b[0m\u001b[1;33m\u001b[0m\u001b[1;33m\u001b[0m\u001b[0m\n",
      "\u001b[1;32mD:\\ProgramData\\Anaconda3\\envs\\alpha-mind\\lib\\site-packages\\alpha_mind-0.2.3-py3.7-win-amd64.egg\\alphamind\\portfolio\\linearbuilder.py\u001b[0m in \u001b[0;36mlinear_builder\u001b[1;34m(er, lbound, ubound, risk_constraints, risk_target, turn_over_target, current_position, method)\u001b[0m\n\u001b[0;32m     90\u001b[0m                 \u001b[1;32mreturn\u001b[0m \u001b[1;34m'optimal'\u001b[0m\u001b[1;33m,\u001b[0m \u001b[0mprob\u001b[0m\u001b[1;33m.\u001b[0m\u001b[0mfeval\u001b[0m\u001b[1;33m(\u001b[0m\u001b[1;33m)\u001b[0m\u001b[1;33m,\u001b[0m \u001b[0mprob\u001b[0m\u001b[1;33m.\u001b[0m\u001b[0mx_value\u001b[0m\u001b[1;33m(\u001b[0m\u001b[1;33m)\u001b[0m\u001b[1;33m[\u001b[0m\u001b[1;33m:\u001b[0m\u001b[0mn\u001b[0m\u001b[1;33m]\u001b[0m\u001b[1;33m\u001b[0m\u001b[1;33m\u001b[0m\u001b[0m\n\u001b[0;32m     91\u001b[0m             \u001b[1;32melse\u001b[0m\u001b[1;33m:\u001b[0m\u001b[1;33m\u001b[0m\u001b[1;33m\u001b[0m\u001b[0m\n\u001b[1;32m---> 92\u001b[1;33m                 \u001b[1;32mraise\u001b[0m \u001b[0mPortfolioBuilderException\u001b[0m\u001b[1;33m(\u001b[0m\u001b[0mprob\u001b[0m\u001b[1;33m.\u001b[0m\u001b[0mstatus\u001b[0m\u001b[1;33m(\u001b[0m\u001b[1;33m)\u001b[0m\u001b[1;33m)\u001b[0m\u001b[1;33m\u001b[0m\u001b[1;33m\u001b[0m\u001b[0m\n\u001b[0m\u001b[0;32m     93\u001b[0m         \u001b[1;32melif\u001b[0m \u001b[0mmethod\u001b[0m\u001b[1;33m.\u001b[0m\u001b[0mlower\u001b[0m\u001b[1;33m(\u001b[0m\u001b[1;33m)\u001b[0m \u001b[1;33m==\u001b[0m \u001b[1;34m'ecos'\u001b[0m\u001b[1;33m:\u001b[0m\u001b[1;33m\u001b[0m\u001b[1;33m\u001b[0m\u001b[0m\n\u001b[0;32m     94\u001b[0m             \u001b[1;32mfrom\u001b[0m \u001b[0mcvxpy\u001b[0m \u001b[1;32mimport\u001b[0m \u001b[0mProblem\u001b[0m\u001b[1;33m\u001b[0m\u001b[1;33m\u001b[0m\u001b[0m\n",
      "\u001b[1;31mPortfolioBuilderException\u001b[0m: 3"
     ]
    }
   ],
   "source": [
    "from cvxpy import pnorm\n",
    "\n",
    "df = pd.DataFrame(columns=u_names, index=['cvxpy', 'alphamind (clp simplex)', 'alphamind (clp interior)', 'alphamind (ecos)'])\n",
    "turn_over_target = 0.5\n",
    "number = 1\n",
    "\n",
    "for u_name, sample_data in zip(u_names, data_set):\n",
    "    factor_data = sample_data['factor']\n",
    "    er = factor_data[factor].values\n",
    "    n = len(er)\n",
    "    lbound = np.ones(n) * lb\n",
    "    ubound = np.ones(n) * ub\n",
    "    \n",
    "    if 'weight' in factor_data:\n",
    "        current_position = factor_data.weight.values\n",
    "    else:\n",
    "        current_position = np.ones_like(er) / len(er)\n",
    "\n",
    "    risk_constraints = np.ones((len(er), 1))\n",
    "    risk_target = (np.array([1.]), np.array([1.]))\n",
    "\n",
    "    status, y, x1 = linear_builder(er,\n",
    "                                   lbound,\n",
    "                                   ubound,\n",
    "                                   risk_constraints,\n",
    "                                   risk_target,\n",
    "                                   turn_over_target=turn_over_target,\n",
    "                                   current_position=current_position,\n",
    "                                   method='interior')\n",
    "    elasped_time1 = timeit.timeit(\"\"\"linear_builder(er,\n",
    "                                                    lbound,\n",
    "                                                    ubound,\n",
    "                                                    risk_constraints,\n",
    "                                                    risk_target,\n",
    "                                                    turn_over_target=turn_over_target,\n",
    "                                                    current_position=current_position,\n",
    "                                                    method='interior')\"\"\", number=number, globals=globals()) / number * 1000\n",
    "    \n",
    "    w = cvxpy.Variable(n)\n",
    "    curr_risk_exposure = risk_constraints.T @ w\n",
    "    \n",
    "    constraints = [w >= lbound,\n",
    "                   w <= ubound,\n",
    "                   curr_risk_exposure == risk_target[0],\n",
    "                   pnorm(w - current_position, 1) <= turn_over_target]\n",
    "    \n",
    "    objective = cvxpy.Minimize(-w.T * er)\n",
    "    prob = cvxpy.Problem(objective, constraints)\n",
    "    \n",
    "    prob.solve(solver='ECOS')\n",
    "    elasped_time2 = timeit.timeit(\"prob.solve(solver='ECOS')\",\n",
    "                                  number=number, globals=globals()) / number * 1000\n",
    "    \n",
    "    status, y, x2 = linear_builder(er,\n",
    "                                   lbound,\n",
    "                                   ubound,\n",
    "                                   risk_constraints,\n",
    "                                   risk_target,\n",
    "                                   turn_over_target=turn_over_target,\n",
    "                                   current_position=current_position,\n",
    "                                   method='simplex')\n",
    "    elasped_time3 = timeit.timeit(\"\"\"linear_builder(er,\n",
    "                                                    lbound,\n",
    "                                                    ubound,\n",
    "                                                    risk_constraints,\n",
    "                                                    risk_target,\n",
    "                                                    turn_over_target=turn_over_target,\n",
    "                                                    current_position=current_position,\n",
    "                                                    method='simplex')\"\"\", number=number, globals=globals()) / number * 1000\n",
    "    \n",
    "    status, y, x3 = linear_builder(er,\n",
    "                                   lbound,\n",
    "                                   ubound,\n",
    "                                   risk_constraints,\n",
    "                                   risk_target,\n",
    "                                   turn_over_target=turn_over_target,\n",
    "                                   current_position=current_position,\n",
    "                                   method='ecos')\n",
    "    elasped_time4 = timeit.timeit(\"\"\"linear_builder(er,\n",
    "                                                    lbound,\n",
    "                                                    ubound,\n",
    "                                                    risk_constraints,\n",
    "                                                    risk_target,\n",
    "                                                    turn_over_target=turn_over_target,\n",
    "                                                    current_position=current_position,\n",
    "                                                    method='ecos')\"\"\", number=number, globals=globals()) / number * 1000\n",
    "    \n",
    "    \n",
    "    np.testing.assert_almost_equal(x1 @ er, np.array(w.value).flatten() @ er, 4)\n",
    "    np.testing.assert_almost_equal(x2 @ er, np.array(w.value).flatten() @ er, 4)\n",
    "    np.testing.assert_almost_equal(x3 @ er, np.array(w.value).flatten() @ er, 4)\n",
    "\n",
    "    df.loc['alphamind (clp interior)', u_name] = elasped_time1\n",
    "    df.loc['alphamind (clp simplex)', u_name] = elasped_time3\n",
    "    df.loc['alphamind (ecos)', u_name] = elasped_time4\n",
    "    df.loc['cvxpy', u_name] = elasped_time2\n",
    "    alpha_logger.info(f\"{u_name} is finished\")"
   ]
  },
  {
   "cell_type": "code",
   "execution_count": null,
   "metadata": {},
   "outputs": [],
   "source": [
    "df"
   ]
  },
  {
   "cell_type": "markdown",
   "metadata": {},
   "source": [
    "## 3. Mean - Variance 优化 （无约束）\n",
    "-----------------------"
   ]
  },
  {
   "cell_type": "code",
   "execution_count": 9,
   "metadata": {},
   "outputs": [
    {
     "name": "stderr",
     "output_type": "stream",
     "text": [
      "D:\\ProgramData\\Anaconda3\\envs\\alpha-mind\\lib\\site-packages\\cvxpy\\expressions\\expression.py:550: UserWarning: \n",
      "This use of ``*`` has resulted in matrix multiplication.\n",
      "Using ``*`` for matrix multiplication has been deprecated since CVXPY 1.1.\n",
      "    Use ``*`` for matrix-scalar and vector-scalar multiplication.\n",
      "    Use ``@`` for matrix-matrix and matrix-vector multiplication.\n",
      "    Use ``multiply`` for elementwise multiplication.\n",
      "\n",
      "  warnings.warn(__STAR_MATMUL_WARNING__, UserWarning)\n",
      "D:\\ProgramData\\Anaconda3\\envs\\alpha-mind\\lib\\site-packages\\cvxpy\\expressions\\expression.py:550: UserWarning: \n",
      "This use of ``*`` has resulted in matrix multiplication.\n",
      "Using ``*`` for matrix multiplication has been deprecated since CVXPY 1.1.\n",
      "    Use ``*`` for matrix-scalar and vector-scalar multiplication.\n",
      "    Use ``@`` for matrix-matrix and matrix-vector multiplication.\n",
      "    Use ``multiply`` for elementwise multiplication.\n",
      "\n",
      "  warnings.warn(__STAR_MATMUL_WARNING__, UserWarning)\n"
     ]
    },
    {
     "ename": "SolverError",
     "evalue": "Solver 'ECOS' failed. Try another solver, or solve with verbose=True for more information.",
     "output_type": "error",
     "traceback": [
      "\u001b[1;31m---------------------------------------------------------------------------\u001b[0m",
      "\u001b[1;31mSolverError\u001b[0m                               Traceback (most recent call last)",
      "\u001b[1;32m<ipython-input-9-07e9404e845e>\u001b[0m in \u001b[0;36m<module>\u001b[1;34m\u001b[0m\n\u001b[0;32m     26\u001b[0m                                           \u001b[1;32mNone\u001b[0m\u001b[1;33m,\u001b[0m\u001b[1;33m\u001b[0m\u001b[1;33m\u001b[0m\u001b[0m\n\u001b[0;32m     27\u001b[0m                                           \u001b[1;32mNone\u001b[0m\u001b[1;33m,\u001b[0m\u001b[1;33m\u001b[0m\u001b[1;33m\u001b[0m\u001b[0m\n\u001b[1;32m---> 28\u001b[1;33m                                           lam=1)\n\u001b[0m\u001b[0;32m     29\u001b[0m     elasped_time1 = timeit.timeit(\"\"\"mean_variance_builder(er,\n\u001b[0;32m     30\u001b[0m                                           \u001b[0mrisk_model\u001b[0m\u001b[1;33m,\u001b[0m\u001b[1;33m\u001b[0m\u001b[1;33m\u001b[0m\u001b[0m\n",
      "\u001b[1;32mD:\\ProgramData\\Anaconda3\\envs\\alpha-mind\\lib\\site-packages\\alpha_mind-0.2.3-py3.7-win-amd64.egg\\alphamind\\portfolio\\meanvariancebuilder.py\u001b[0m in \u001b[0;36mmean_variance_builder\u001b[1;34m(er, risk_model, bm, lbound, ubound, risk_exposure, risk_target, lam, linear_solver)\u001b[0m\n\u001b[0;32m     75\u001b[0m         \u001b[0mobjective\u001b[0m \u001b[1;33m=\u001b[0m \u001b[0mcvxpy\u001b[0m\u001b[1;33m.\u001b[0m\u001b[0mMinimize\u001b[0m\u001b[1;33m(\u001b[0m\u001b[1;33m-\u001b[0m\u001b[0mw\u001b[0m\u001b[1;33m.\u001b[0m\u001b[0mT\u001b[0m \u001b[1;33m*\u001b[0m \u001b[0mer\u001b[0m \u001b[1;33m+\u001b[0m \u001b[1;36m0.5\u001b[0m \u001b[1;33m*\u001b[0m \u001b[0mlam\u001b[0m \u001b[1;33m*\u001b[0m \u001b[0mrisk\u001b[0m\u001b[1;33m)\u001b[0m\u001b[1;33m\u001b[0m\u001b[1;33m\u001b[0m\u001b[0m\n\u001b[0;32m     76\u001b[0m         \u001b[0mprob\u001b[0m \u001b[1;33m=\u001b[0m \u001b[0mcvxpy\u001b[0m\u001b[1;33m.\u001b[0m\u001b[0mProblem\u001b[0m\u001b[1;33m(\u001b[0m\u001b[0mobjective\u001b[0m\u001b[1;33m)\u001b[0m\u001b[1;33m\u001b[0m\u001b[1;33m\u001b[0m\u001b[0m\n\u001b[1;32m---> 77\u001b[1;33m         \u001b[0mprob\u001b[0m\u001b[1;33m.\u001b[0m\u001b[0msolve\u001b[0m\u001b[1;33m(\u001b[0m\u001b[0msolver\u001b[0m\u001b[1;33m=\u001b[0m\u001b[1;34m'ECOS'\u001b[0m\u001b[1;33m,\u001b[0m \u001b[0mfeastol\u001b[0m\u001b[1;33m=\u001b[0m\u001b[1;36m1e-9\u001b[0m\u001b[1;33m,\u001b[0m \u001b[0mabstol\u001b[0m\u001b[1;33m=\u001b[0m\u001b[1;36m1e-9\u001b[0m\u001b[1;33m,\u001b[0m \u001b[0mreltol\u001b[0m\u001b[1;33m=\u001b[0m\u001b[1;36m1e-9\u001b[0m\u001b[1;33m)\u001b[0m\u001b[1;33m\u001b[0m\u001b[1;33m\u001b[0m\u001b[0m\n\u001b[0m\u001b[0;32m     78\u001b[0m \u001b[1;33m\u001b[0m\u001b[0m\n\u001b[0;32m     79\u001b[0m         \u001b[1;32mif\u001b[0m \u001b[0mprob\u001b[0m\u001b[1;33m.\u001b[0m\u001b[0mstatus\u001b[0m \u001b[1;33m==\u001b[0m \u001b[1;34m'optimal'\u001b[0m \u001b[1;32mor\u001b[0m \u001b[0mprob\u001b[0m\u001b[1;33m.\u001b[0m\u001b[0mstatus\u001b[0m \u001b[1;33m==\u001b[0m \u001b[1;34m'optimal_inaccurate'\u001b[0m\u001b[1;33m:\u001b[0m\u001b[1;33m\u001b[0m\u001b[1;33m\u001b[0m\u001b[0m\n",
      "\u001b[1;32mD:\\ProgramData\\Anaconda3\\envs\\alpha-mind\\lib\\site-packages\\cvxpy\\problems\\problem.py\u001b[0m in \u001b[0;36msolve\u001b[1;34m(self, *args, **kwargs)\u001b[0m\n\u001b[0;32m    394\u001b[0m         \u001b[1;32melse\u001b[0m\u001b[1;33m:\u001b[0m\u001b[1;33m\u001b[0m\u001b[1;33m\u001b[0m\u001b[0m\n\u001b[0;32m    395\u001b[0m             \u001b[0msolve_func\u001b[0m \u001b[1;33m=\u001b[0m \u001b[0mProblem\u001b[0m\u001b[1;33m.\u001b[0m\u001b[0m_solve\u001b[0m\u001b[1;33m\u001b[0m\u001b[1;33m\u001b[0m\u001b[0m\n\u001b[1;32m--> 396\u001b[1;33m         \u001b[1;32mreturn\u001b[0m \u001b[0msolve_func\u001b[0m\u001b[1;33m(\u001b[0m\u001b[0mself\u001b[0m\u001b[1;33m,\u001b[0m \u001b[1;33m*\u001b[0m\u001b[0margs\u001b[0m\u001b[1;33m,\u001b[0m \u001b[1;33m**\u001b[0m\u001b[0mkwargs\u001b[0m\u001b[1;33m)\u001b[0m\u001b[1;33m\u001b[0m\u001b[1;33m\u001b[0m\u001b[0m\n\u001b[0m\u001b[0;32m    397\u001b[0m \u001b[1;33m\u001b[0m\u001b[0m\n\u001b[0;32m    398\u001b[0m     \u001b[1;33m@\u001b[0m\u001b[0mclassmethod\u001b[0m\u001b[1;33m\u001b[0m\u001b[1;33m\u001b[0m\u001b[0m\n",
      "\u001b[1;32mD:\\ProgramData\\Anaconda3\\envs\\alpha-mind\\lib\\site-packages\\cvxpy\\problems\\problem.py\u001b[0m in \u001b[0;36m_solve\u001b[1;34m(self, solver, warm_start, verbose, gp, qcp, requires_grad, enforce_dpp, **kwargs)\u001b[0m\n\u001b[0;32m    752\u001b[0m         solution = solving_chain.solve_via_data(\n\u001b[0;32m    753\u001b[0m             self, data, warm_start, verbose, kwargs)\n\u001b[1;32m--> 754\u001b[1;33m         \u001b[0mself\u001b[0m\u001b[1;33m.\u001b[0m\u001b[0munpack_results\u001b[0m\u001b[1;33m(\u001b[0m\u001b[0msolution\u001b[0m\u001b[1;33m,\u001b[0m \u001b[0msolving_chain\u001b[0m\u001b[1;33m,\u001b[0m \u001b[0minverse_data\u001b[0m\u001b[1;33m)\u001b[0m\u001b[1;33m\u001b[0m\u001b[1;33m\u001b[0m\u001b[0m\n\u001b[0m\u001b[0;32m    755\u001b[0m         \u001b[1;32mreturn\u001b[0m \u001b[0mself\u001b[0m\u001b[1;33m.\u001b[0m\u001b[0mvalue\u001b[0m\u001b[1;33m\u001b[0m\u001b[1;33m\u001b[0m\u001b[0m\n\u001b[0;32m    756\u001b[0m \u001b[1;33m\u001b[0m\u001b[0m\n",
      "\u001b[1;32mD:\\ProgramData\\Anaconda3\\envs\\alpha-mind\\lib\\site-packages\\cvxpy\\problems\\problem.py\u001b[0m in \u001b[0;36munpack_results\u001b[1;34m(self, solution, chain, inverse_data)\u001b[0m\n\u001b[0;32m   1066\u001b[0m             raise error.SolverError(\n\u001b[0;32m   1067\u001b[0m                     \u001b[1;34m\"Solver '%s' failed. \"\u001b[0m \u001b[1;33m%\u001b[0m \u001b[0mchain\u001b[0m\u001b[1;33m.\u001b[0m\u001b[0msolver\u001b[0m\u001b[1;33m.\u001b[0m\u001b[0mname\u001b[0m\u001b[1;33m(\u001b[0m\u001b[1;33m)\u001b[0m \u001b[1;33m+\u001b[0m\u001b[1;33m\u001b[0m\u001b[1;33m\u001b[0m\u001b[0m\n\u001b[1;32m-> 1068\u001b[1;33m                     \u001b[1;34m\"Try another solver, or solve with verbose=True for more \"\u001b[0m\u001b[1;33m\u001b[0m\u001b[1;33m\u001b[0m\u001b[0m\n\u001b[0m\u001b[0;32m   1069\u001b[0m                     \"information.\")\n\u001b[0;32m   1070\u001b[0m         \u001b[0mself\u001b[0m\u001b[1;33m.\u001b[0m\u001b[0munpack\u001b[0m\u001b[1;33m(\u001b[0m\u001b[0msolution\u001b[0m\u001b[1;33m)\u001b[0m\u001b[1;33m\u001b[0m\u001b[1;33m\u001b[0m\u001b[0m\n",
      "\u001b[1;31mSolverError\u001b[0m: Solver 'ECOS' failed. Try another solver, or solve with verbose=True for more information."
     ]
    }
   ],
   "source": [
    "from cvxpy import *\n",
    "\n",
    "df = pd.DataFrame(columns=u_names, index=['cvxpy', 'alphamind'])\n",
    "number = 1\n",
    "\n",
    "for u_name, sample_data in zip(u_names, data_set):\n",
    "    all_styles = risk_styles + industry_styles + ['COUNTRY']\n",
    "    factor_data = sample_data['factor']\n",
    "    risk_cov = sample_data['risk_cov'][all_styles].values\n",
    "    risk_exposure = factor_data[all_styles].values\n",
    "    special_risk = factor_data.srisk.values\n",
    "    sec_cov = risk_exposure @ risk_cov @ risk_exposure.T / 10000 + np.diag(special_risk ** 2) / 10000\n",
    "    er = factor_data[factor].values\n",
    "    n = len(er)\n",
    "\n",
    "    bm = np.zeros(n)\n",
    "    lbound = -np.ones(n) * np.inf\n",
    "    ubound = np.ones(n) * np.inf\n",
    "    risk_model = dict(cov=None, factor_cov=risk_cov/10000., factor_loading=risk_exposure, idsync=(special_risk**2)/10000.)\n",
    "\n",
    "    status, y, x1 = mean_variance_builder(er,\n",
    "                                          risk_model,\n",
    "                                          bm,\n",
    "                                          lbound,\n",
    "                                          ubound,\n",
    "                                          None,\n",
    "                                          None,\n",
    "                                          lam=1)\n",
    "    elasped_time1 = timeit.timeit(\"\"\"mean_variance_builder(er,\n",
    "                                          risk_model,\n",
    "                                          bm,\n",
    "                                          lbound,\n",
    "                                          ubound,\n",
    "                                          None,\n",
    "                                          None,\n",
    "                                          lam=1)\"\"\",\n",
    "                                  number=number, globals=globals()) / number * 1000\n",
    "    \n",
    "    w = cvxpy.Variable(n)\n",
    "    risk = sum_squares(multiply(special_risk / 100., w)) + quad_form((w.T * risk_exposure).T, risk_cov / 10000.)\n",
    "    objective = cvxpy.Minimize(-w.T * er + 0.5 * risk)\n",
    "    prob = cvxpy.Problem(objective)\n",
    "    prob.solve(solver='ECOS')\n",
    "    elasped_time2 = timeit.timeit(\"prob.solve(solver='ECOS')\",\n",
    "                                  number=number, globals=globals()) / number * 1000\n",
    "    \n",
    "    u1 = -x1 @ er + 0.5 * x1 @ sec_cov @ x1\n",
    "    x2 = np.array(w.value).flatten()\n",
    "    u2 =  -x2 @ er + 0.5 * x2 @ sec_cov @ x2\n",
    "    \n",
    "    np.testing.assert_array_almost_equal(u1, u2, 4)\n",
    "\n",
    "    df.loc['alphamind', u_name] = elasped_time1\n",
    "    df.loc['cvxpy', u_name] = elasped_time2\n",
    "    alpha_logger.info(f\"{u_name} is finished\")"
   ]
  },
  {
   "cell_type": "code",
   "execution_count": null,
   "metadata": {},
   "outputs": [],
   "source": [
    "df"
   ]
  },
  {
   "cell_type": "markdown",
   "metadata": {},
   "source": [
    "## 4. Mean - Variance 优化 （Box约束）\n",
    "---------------"
   ]
  },
  {
   "cell_type": "code",
   "execution_count": 10,
   "metadata": {},
   "outputs": [
    {
     "name": "stderr",
     "output_type": "stream",
     "text": [
      "D:\\ProgramData\\Anaconda3\\envs\\alpha-mind\\lib\\site-packages\\ipykernel\\ipkernel.py:287: DeprecationWarning: `should_run_async` will not call `transform_cell` automatically in the future. Please pass the result to `transformed_cell` argument and any exception that happen during thetransform in `preprocessing_exc_tuple` in IPython 7.17 and above.\n",
      "  and should_run_async(code)\n"
     ]
    },
    {
     "ename": "PortfolioBuilderException",
     "evalue": "-13",
     "output_type": "error",
     "traceback": [
      "\u001b[1;31m---------------------------------------------------------------------------\u001b[0m",
      "\u001b[1;31mPortfolioBuilderException\u001b[0m                 Traceback (most recent call last)",
      "\u001b[1;32m<ipython-input-10-8f6e73d51fb2>\u001b[0m in \u001b[0;36m<module>\u001b[1;34m\u001b[0m\n\u001b[0;32m     24\u001b[0m                                           \u001b[0mubound\u001b[0m\u001b[1;33m,\u001b[0m\u001b[1;33m\u001b[0m\u001b[1;33m\u001b[0m\u001b[0m\n\u001b[0;32m     25\u001b[0m                                           \u001b[1;32mNone\u001b[0m\u001b[1;33m,\u001b[0m\u001b[1;33m\u001b[0m\u001b[1;33m\u001b[0m\u001b[0m\n\u001b[1;32m---> 26\u001b[1;33m                                           None)\n\u001b[0m\u001b[0;32m     27\u001b[0m     elasped_time1 = timeit.timeit(\"\"\"mean_variance_builder(er,\n\u001b[0;32m     28\u001b[0m                                           \u001b[0mrisk_model\u001b[0m\u001b[1;33m,\u001b[0m\u001b[1;33m\u001b[0m\u001b[1;33m\u001b[0m\u001b[0m\n",
      "\u001b[1;32mD:\\ProgramData\\Anaconda3\\envs\\alpha-mind\\lib\\site-packages\\alpha_mind-0.2.3-py3.7-win-amd64.egg\\alphamind\\portfolio\\meanvariancebuilder.py\u001b[0m in \u001b[0;36mmean_variance_builder\u001b[1;34m(er, risk_model, bm, lbound, ubound, risk_exposure, risk_target, lam, linear_solver)\u001b[0m\n\u001b[0;32m     95\u001b[0m                                 linear_solver=linear_solver)\n\u001b[0;32m     96\u001b[0m \u001b[1;33m\u001b[0m\u001b[0m\n\u001b[1;32m---> 97\u001b[1;33m         \u001b[1;32mreturn\u001b[0m \u001b[0m_create_result\u001b[0m\u001b[1;33m(\u001b[0m\u001b[0moptimizer\u001b[0m\u001b[1;33m,\u001b[0m \u001b[0mbm\u001b[0m\u001b[1;33m)\u001b[0m\u001b[1;33m\u001b[0m\u001b[1;33m\u001b[0m\u001b[0m\n\u001b[0m\u001b[0;32m     98\u001b[0m \u001b[1;33m\u001b[0m\u001b[0m\n\u001b[0;32m     99\u001b[0m \u001b[1;33m\u001b[0m\u001b[0m\n",
      "\u001b[1;32mD:\\ProgramData\\Anaconda3\\envs\\alpha-mind\\lib\\site-packages\\alpha_mind-0.2.3-py3.7-win-amd64.egg\\alphamind\\portfolio\\meanvariancebuilder.py\u001b[0m in \u001b[0;36m_create_result\u001b[1;34m(optimizer, bm)\u001b[0m\n\u001b[0;32m     45\u001b[0m         \u001b[1;32mreturn\u001b[0m \u001b[1;34m'optimal'\u001b[0m\u001b[1;33m,\u001b[0m \u001b[0moptimizer\u001b[0m\u001b[1;33m.\u001b[0m\u001b[0mfeval\u001b[0m\u001b[1;33m(\u001b[0m\u001b[1;33m)\u001b[0m\u001b[1;33m,\u001b[0m \u001b[0moptimizer\u001b[0m\u001b[1;33m.\u001b[0m\u001b[0mx_value\u001b[0m\u001b[1;33m(\u001b[0m\u001b[1;33m)\u001b[0m \u001b[1;33m+\u001b[0m \u001b[0mbm\u001b[0m\u001b[1;33m\u001b[0m\u001b[1;33m\u001b[0m\u001b[0m\n\u001b[0;32m     46\u001b[0m     \u001b[1;32melse\u001b[0m\u001b[1;33m:\u001b[0m\u001b[1;33m\u001b[0m\u001b[1;33m\u001b[0m\u001b[0m\n\u001b[1;32m---> 47\u001b[1;33m         \u001b[1;32mraise\u001b[0m \u001b[0mPortfolioBuilderException\u001b[0m\u001b[1;33m(\u001b[0m\u001b[0moptimizer\u001b[0m\u001b[1;33m.\u001b[0m\u001b[0mstatus\u001b[0m\u001b[1;33m(\u001b[0m\u001b[1;33m)\u001b[0m\u001b[1;33m)\u001b[0m\u001b[1;33m\u001b[0m\u001b[1;33m\u001b[0m\u001b[0m\n\u001b[0m\u001b[0;32m     48\u001b[0m \u001b[1;33m\u001b[0m\u001b[0m\n\u001b[0;32m     49\u001b[0m \u001b[1;33m\u001b[0m\u001b[0m\n",
      "\u001b[1;31mPortfolioBuilderException\u001b[0m: -13"
     ]
    }
   ],
   "source": [
    "df = pd.DataFrame(columns=u_names, index=['cvxpy', 'alphamind'])\n",
    "number = 1\n",
    "\n",
    "for u_name, sample_data in zip(u_names, data_set):\n",
    "    all_styles = risk_styles + industry_styles + ['COUNTRY']\n",
    "    factor_data = sample_data['factor']\n",
    "    risk_cov = sample_data['risk_cov'][all_styles].values\n",
    "    risk_exposure = factor_data[all_styles].values\n",
    "    special_risk = factor_data.srisk.values\n",
    "    sec_cov = risk_exposure @ risk_cov @ risk_exposure.T / 10000 + np.diag(special_risk ** 2) / 10000\n",
    "    er = factor_data[factor].values\n",
    "    n = len(er)\n",
    "\n",
    "    bm = np.zeros(n)\n",
    "    lbound = np.zeros(n)\n",
    "    ubound = np.ones(n) * 0.1\n",
    "    \n",
    "    risk_model = dict(cov=None, factor_cov=risk_cov/10000., factor_loading=risk_exposure, idsync=(special_risk**2)/10000.)\n",
    "\n",
    "    status, y, x1 = mean_variance_builder(er,\n",
    "                                          risk_model,\n",
    "                                          bm,\n",
    "                                          lbound,\n",
    "                                          ubound,\n",
    "                                          None,\n",
    "                                          None)\n",
    "    elasped_time1 = timeit.timeit(\"\"\"mean_variance_builder(er,\n",
    "                                          risk_model,\n",
    "                                          bm,\n",
    "                                          lbound,\n",
    "                                          ubound,\n",
    "                                          None,\n",
    "                                          None)\"\"\",\n",
    "                                  number=number, globals=globals()) / number * 1000\n",
    "    \n",
    "    w = cvxpy.Variable(n)\n",
    "    risk = sum_squares(multiply(special_risk / 100., w)) + quad_form((w.T * risk_exposure).T, risk_cov / 10000.)\n",
    "    objective = cvxpy.Minimize(-w.T * er + 0.5 * risk)\n",
    "    constraints = [w >= lbound,\n",
    "                   w <= ubound]\n",
    "    prob = cvxpy.Problem(objective, constraints)\n",
    "    prob.solve(solver='ECOS')\n",
    "    elasped_time2 = timeit.timeit(\"prob.solve(solver='ECOS')\",\n",
    "                                  number=number, globals=globals()) / number * 1000\n",
    "    \n",
    "    u1 = -x1 @ er + 0.5 * x1 @ sec_cov @ x1\n",
    "    x2 = np.array(w.value).flatten()\n",
    "    u2 =  -x2 @ er + 0.5 * x2 @ sec_cov @ x2\n",
    "    \n",
    "    np.testing.assert_array_almost_equal(u1, u2, 4)\n",
    "\n",
    "    df.loc['alphamind', u_name] = elasped_time1\n",
    "    df.loc['cvxpy', u_name] = elasped_time2\n",
    "    alpha_logger.info(f\"{u_name} is finished\")"
   ]
  },
  {
   "cell_type": "code",
   "execution_count": 11,
   "metadata": {},
   "outputs": [
    {
     "name": "stderr",
     "output_type": "stream",
     "text": [
      "D:\\ProgramData\\Anaconda3\\envs\\alpha-mind\\lib\\site-packages\\ipykernel\\ipkernel.py:287: DeprecationWarning: `should_run_async` will not call `transform_cell` automatically in the future. Please pass the result to `transformed_cell` argument and any exception that happen during thetransform in `preprocessing_exc_tuple` in IPython 7.17 and above.\n",
      "  and should_run_async(code)\n"
     ]
    },
    {
     "data": {
      "text/html": [
       "<div>\n",
       "<style scoped>\n",
       "    .dataframe tbody tr th:only-of-type {\n",
       "        vertical-align: middle;\n",
       "    }\n",
       "\n",
       "    .dataframe tbody tr th {\n",
       "        vertical-align: top;\n",
       "    }\n",
       "\n",
       "    .dataframe thead th {\n",
       "        text-align: right;\n",
       "    }\n",
       "</style>\n",
       "<table border=\"1\" class=\"dataframe\">\n",
       "  <thead>\n",
       "    <tr style=\"text-align: right;\">\n",
       "      <th></th>\n",
       "      <th>hs300</th>\n",
       "    </tr>\n",
       "  </thead>\n",
       "  <tbody>\n",
       "    <tr>\n",
       "      <th>cvxpy</th>\n",
       "      <td>NaN</td>\n",
       "    </tr>\n",
       "    <tr>\n",
       "      <th>alphamind</th>\n",
       "      <td>NaN</td>\n",
       "    </tr>\n",
       "  </tbody>\n",
       "</table>\n",
       "</div>"
      ],
      "text/plain": [
       "          hs300\n",
       "cvxpy       NaN\n",
       "alphamind   NaN"
      ]
     },
     "execution_count": 11,
     "metadata": {},
     "output_type": "execute_result"
    }
   ],
   "source": [
    "df"
   ]
  },
  {
   "cell_type": "markdown",
   "metadata": {},
   "source": [
    "## 5. Mean - Variance 优化 （Box约束以及线性约束）\n",
    "----------------"
   ]
  },
  {
   "cell_type": "code",
   "execution_count": 12,
   "metadata": {},
   "outputs": [
    {
     "name": "stderr",
     "output_type": "stream",
     "text": [
      "D:\\ProgramData\\Anaconda3\\envs\\alpha-mind\\lib\\site-packages\\ipykernel\\ipkernel.py:287: DeprecationWarning: `should_run_async` will not call `transform_cell` automatically in the future. Please pass the result to `transformed_cell` argument and any exception that happen during thetransform in `preprocessing_exc_tuple` in IPython 7.17 and above.\n",
      "  and should_run_async(code)\n"
     ]
    },
    {
     "ename": "PortfolioBuilderException",
     "evalue": "-13",
     "output_type": "error",
     "traceback": [
      "\u001b[1;31m---------------------------------------------------------------------------\u001b[0m",
      "\u001b[1;31mPortfolioBuilderException\u001b[0m                 Traceback (most recent call last)",
      "\u001b[1;32m<ipython-input-12-0c4eaa49b968>\u001b[0m in \u001b[0;36m<module>\u001b[1;34m\u001b[0m\n\u001b[0;32m     27\u001b[0m                                           \u001b[0mubound\u001b[0m\u001b[1;33m,\u001b[0m\u001b[1;33m\u001b[0m\u001b[1;33m\u001b[0m\u001b[0m\n\u001b[0;32m     28\u001b[0m                                           \u001b[0mrisk_constraints\u001b[0m\u001b[1;33m,\u001b[0m\u001b[1;33m\u001b[0m\u001b[1;33m\u001b[0m\u001b[0m\n\u001b[1;32m---> 29\u001b[1;33m                                           risk_target)\n\u001b[0m\u001b[0;32m     30\u001b[0m     elasped_time1 = timeit.timeit(\"\"\"mean_variance_builder(er,\n\u001b[0;32m     31\u001b[0m                                                            \u001b[0mrisk_model\u001b[0m\u001b[1;33m,\u001b[0m\u001b[1;33m\u001b[0m\u001b[1;33m\u001b[0m\u001b[0m\n",
      "\u001b[1;32mD:\\ProgramData\\Anaconda3\\envs\\alpha-mind\\lib\\site-packages\\alpha_mind-0.2.3-py3.7-win-amd64.egg\\alphamind\\portfolio\\meanvariancebuilder.py\u001b[0m in \u001b[0;36mmean_variance_builder\u001b[1;34m(er, risk_model, bm, lbound, ubound, risk_exposure, risk_target, lam, linear_solver)\u001b[0m\n\u001b[0;32m     95\u001b[0m                                 linear_solver=linear_solver)\n\u001b[0;32m     96\u001b[0m \u001b[1;33m\u001b[0m\u001b[0m\n\u001b[1;32m---> 97\u001b[1;33m         \u001b[1;32mreturn\u001b[0m \u001b[0m_create_result\u001b[0m\u001b[1;33m(\u001b[0m\u001b[0moptimizer\u001b[0m\u001b[1;33m,\u001b[0m \u001b[0mbm\u001b[0m\u001b[1;33m)\u001b[0m\u001b[1;33m\u001b[0m\u001b[1;33m\u001b[0m\u001b[0m\n\u001b[0m\u001b[0;32m     98\u001b[0m \u001b[1;33m\u001b[0m\u001b[0m\n\u001b[0;32m     99\u001b[0m \u001b[1;33m\u001b[0m\u001b[0m\n",
      "\u001b[1;32mD:\\ProgramData\\Anaconda3\\envs\\alpha-mind\\lib\\site-packages\\alpha_mind-0.2.3-py3.7-win-amd64.egg\\alphamind\\portfolio\\meanvariancebuilder.py\u001b[0m in \u001b[0;36m_create_result\u001b[1;34m(optimizer, bm)\u001b[0m\n\u001b[0;32m     45\u001b[0m         \u001b[1;32mreturn\u001b[0m \u001b[1;34m'optimal'\u001b[0m\u001b[1;33m,\u001b[0m \u001b[0moptimizer\u001b[0m\u001b[1;33m.\u001b[0m\u001b[0mfeval\u001b[0m\u001b[1;33m(\u001b[0m\u001b[1;33m)\u001b[0m\u001b[1;33m,\u001b[0m \u001b[0moptimizer\u001b[0m\u001b[1;33m.\u001b[0m\u001b[0mx_value\u001b[0m\u001b[1;33m(\u001b[0m\u001b[1;33m)\u001b[0m \u001b[1;33m+\u001b[0m \u001b[0mbm\u001b[0m\u001b[1;33m\u001b[0m\u001b[1;33m\u001b[0m\u001b[0m\n\u001b[0;32m     46\u001b[0m     \u001b[1;32melse\u001b[0m\u001b[1;33m:\u001b[0m\u001b[1;33m\u001b[0m\u001b[1;33m\u001b[0m\u001b[0m\n\u001b[1;32m---> 47\u001b[1;33m         \u001b[1;32mraise\u001b[0m \u001b[0mPortfolioBuilderException\u001b[0m\u001b[1;33m(\u001b[0m\u001b[0moptimizer\u001b[0m\u001b[1;33m.\u001b[0m\u001b[0mstatus\u001b[0m\u001b[1;33m(\u001b[0m\u001b[1;33m)\u001b[0m\u001b[1;33m)\u001b[0m\u001b[1;33m\u001b[0m\u001b[1;33m\u001b[0m\u001b[0m\n\u001b[0m\u001b[0;32m     48\u001b[0m \u001b[1;33m\u001b[0m\u001b[0m\n\u001b[0;32m     49\u001b[0m \u001b[1;33m\u001b[0m\u001b[0m\n",
      "\u001b[1;31mPortfolioBuilderException\u001b[0m: -13"
     ]
    }
   ],
   "source": [
    "df = pd.DataFrame(columns=u_names, index=['cvxpy', 'alphamind'])\n",
    "number = 1\n",
    "\n",
    "for u_name, sample_data in zip(u_names, data_set):\n",
    "    all_styles = risk_styles + industry_styles + ['COUNTRY']\n",
    "    factor_data = sample_data['factor']\n",
    "    risk_cov = sample_data['risk_cov'][all_styles].values\n",
    "    risk_exposure = factor_data[all_styles].values\n",
    "    special_risk = factor_data.srisk.values\n",
    "    sec_cov = risk_exposure @ risk_cov @ risk_exposure.T / 10000 + np.diag(special_risk ** 2) / 10000\n",
    "    er = factor_data[factor].values\n",
    "    n = len(er)\n",
    "    \n",
    "    bm = np.zeros(n)\n",
    "    lbound = np.zeros(n)\n",
    "    ubound = np.ones(n) * 0.1\n",
    "    \n",
    "    risk_constraints = np.ones((len(er), 1))\n",
    "    risk_target = (np.array([1.]), np.array([1.]))\n",
    "    \n",
    "    risk_model = dict(cov=None, factor_cov=risk_cov/10000., factor_loading=risk_exposure, idsync=(special_risk**2)/10000.)\n",
    "\n",
    "    status, y, x1 = mean_variance_builder(er,\n",
    "                                          risk_model,\n",
    "                                          bm,\n",
    "                                          lbound,\n",
    "                                          ubound,\n",
    "                                          risk_constraints,\n",
    "                                          risk_target)\n",
    "    elasped_time1 = timeit.timeit(\"\"\"mean_variance_builder(er,\n",
    "                                                           risk_model,\n",
    "                                                           bm,\n",
    "                                                           lbound,\n",
    "                                                           ubound,\n",
    "                                                           risk_constraints,\n",
    "                                                           risk_target)\"\"\",\n",
    "                                  number=number, globals=globals()) / number * 1000\n",
    "    \n",
    "    w = cvxpy.Variable(n)\n",
    "    risk = sum_squares(multiply(special_risk / 100., w)) + quad_form((w.T * risk_exposure).T, risk_cov / 10000.)\n",
    "    objective = cvxpy.Minimize(-w.T * er + 0.5 * risk)\n",
    "    curr_risk_exposure = risk_constraints.T @ w\n",
    "    constraints = [w >= lbound,\n",
    "                   w <= ubound,\n",
    "                   curr_risk_exposure == risk_target[0]]\n",
    "    prob = cvxpy.Problem(objective, constraints)\n",
    "    prob.solve(solver='ECOS')\n",
    "    elasped_time2 = timeit.timeit(\"prob.solve(solver='ECOS')\",\n",
    "                                  number=number, globals=globals()) / number * 1000\n",
    "\n",
    "    u1 = -x1 @ er + 0.5 * x1 @ sec_cov @ x1\n",
    "    x2 = np.array(w.value).flatten()\n",
    "    u2 =  -x2 @ er + 0.5 * x2 @ sec_cov @ x2\n",
    "    \n",
    "    np.testing.assert_array_almost_equal(u1, u2, 4)\n",
    "\n",
    "    df.loc['alphamind', u_name] = elasped_time1\n",
    "    df.loc['cvxpy', u_name] = elasped_time2\n",
    "    alpha_logger.info(f\"{u_name} is finished\")"
   ]
  },
  {
   "cell_type": "code",
   "execution_count": 13,
   "metadata": {},
   "outputs": [
    {
     "data": {
      "text/html": [
       "<div>\n",
       "<style scoped>\n",
       "    .dataframe tbody tr th:only-of-type {\n",
       "        vertical-align: middle;\n",
       "    }\n",
       "\n",
       "    .dataframe tbody tr th {\n",
       "        vertical-align: top;\n",
       "    }\n",
       "\n",
       "    .dataframe thead th {\n",
       "        text-align: right;\n",
       "    }\n",
       "</style>\n",
       "<table border=\"1\" class=\"dataframe\">\n",
       "  <thead>\n",
       "    <tr style=\"text-align: right;\">\n",
       "      <th></th>\n",
       "      <th>hs300</th>\n",
       "    </tr>\n",
       "  </thead>\n",
       "  <tbody>\n",
       "    <tr>\n",
       "      <th>cvxpy</th>\n",
       "      <td>NaN</td>\n",
       "    </tr>\n",
       "    <tr>\n",
       "      <th>alphamind</th>\n",
       "      <td>NaN</td>\n",
       "    </tr>\n",
       "  </tbody>\n",
       "</table>\n",
       "</div>"
      ],
      "text/plain": [
       "          hs300\n",
       "cvxpy       NaN\n",
       "alphamind   NaN"
      ]
     },
     "execution_count": 13,
     "metadata": {},
     "output_type": "execute_result"
    }
   ],
   "source": [
    "df"
   ]
  },
  {
   "cell_type": "markdown",
   "metadata": {},
   "source": [
    "## 6. 线性优化（带二次限制条件）\n",
    "-------------------------"
   ]
  },
  {
   "cell_type": "code",
   "execution_count": 14,
   "metadata": {},
   "outputs": [
    {
     "name": "stderr",
     "output_type": "stream",
     "text": [
      "D:\\ProgramData\\Anaconda3\\envs\\alpha-mind\\lib\\site-packages\\ipykernel\\ipkernel.py:287: DeprecationWarning: `should_run_async` will not call `transform_cell` automatically in the future. Please pass the result to `transformed_cell` argument and any exception that happen during thetransform in `preprocessing_exc_tuple` in IPython 7.17 and above.\n",
      "  and should_run_async(code)\n"
     ]
    },
    {
     "ename": "PortfolioBuilderException",
     "evalue": "-13",
     "output_type": "error",
     "traceback": [
      "\u001b[1;31m---------------------------------------------------------------------------\u001b[0m",
      "\u001b[1;31mPortfolioBuilderException\u001b[0m                 Traceback (most recent call last)",
      "\u001b[1;32m<ipython-input-14-d727a7f2ff85>\u001b[0m in \u001b[0;36m<module>\u001b[1;34m\u001b[0m\n\u001b[0;32m     32\u001b[0m                                        \u001b[0mrisk_constraints\u001b[0m\u001b[1;33m,\u001b[0m\u001b[1;33m\u001b[0m\u001b[1;33m\u001b[0m\u001b[0m\n\u001b[0;32m     33\u001b[0m                                        \u001b[0mrisk_target\u001b[0m\u001b[1;33m,\u001b[0m\u001b[1;33m\u001b[0m\u001b[1;33m\u001b[0m\u001b[0m\n\u001b[1;32m---> 34\u001b[1;33m                                        vol_target=target_vol)\n\u001b[0m\u001b[0;32m     35\u001b[0m     elasped_time1 = timeit.timeit(\"\"\"target_vol_builder(er,\n\u001b[0;32m     36\u001b[0m                                        \u001b[0mrisk_model\u001b[0m\u001b[1;33m,\u001b[0m\u001b[1;33m\u001b[0m\u001b[1;33m\u001b[0m\u001b[0m\n",
      "\u001b[1;32mD:\\ProgramData\\Anaconda3\\envs\\alpha-mind\\lib\\site-packages\\alpha_mind-0.2.3-py3.7-win-amd64.egg\\alphamind\\portfolio\\meanvariancebuilder.py\u001b[0m in \u001b[0;36mtarget_vol_builder\u001b[1;34m(er, risk_model, bm, lbound, ubound, risk_exposure, risk_target, vol_target, linear_solver)\u001b[0m\n\u001b[0;32m    123\u001b[0m                             linear_solver=linear_solver)\n\u001b[0;32m    124\u001b[0m \u001b[1;33m\u001b[0m\u001b[0m\n\u001b[1;32m--> 125\u001b[1;33m     \u001b[1;32mreturn\u001b[0m \u001b[0m_create_result\u001b[0m\u001b[1;33m(\u001b[0m\u001b[0moptimizer\u001b[0m\u001b[1;33m,\u001b[0m \u001b[0mbm\u001b[0m\u001b[1;33m)\u001b[0m\u001b[1;33m\u001b[0m\u001b[1;33m\u001b[0m\u001b[0m\n\u001b[0m",
      "\u001b[1;32mD:\\ProgramData\\Anaconda3\\envs\\alpha-mind\\lib\\site-packages\\alpha_mind-0.2.3-py3.7-win-amd64.egg\\alphamind\\portfolio\\meanvariancebuilder.py\u001b[0m in \u001b[0;36m_create_result\u001b[1;34m(optimizer, bm)\u001b[0m\n\u001b[0;32m     45\u001b[0m         \u001b[1;32mreturn\u001b[0m \u001b[1;34m'optimal'\u001b[0m\u001b[1;33m,\u001b[0m \u001b[0moptimizer\u001b[0m\u001b[1;33m.\u001b[0m\u001b[0mfeval\u001b[0m\u001b[1;33m(\u001b[0m\u001b[1;33m)\u001b[0m\u001b[1;33m,\u001b[0m \u001b[0moptimizer\u001b[0m\u001b[1;33m.\u001b[0m\u001b[0mx_value\u001b[0m\u001b[1;33m(\u001b[0m\u001b[1;33m)\u001b[0m \u001b[1;33m+\u001b[0m \u001b[0mbm\u001b[0m\u001b[1;33m\u001b[0m\u001b[1;33m\u001b[0m\u001b[0m\n\u001b[0;32m     46\u001b[0m     \u001b[1;32melse\u001b[0m\u001b[1;33m:\u001b[0m\u001b[1;33m\u001b[0m\u001b[1;33m\u001b[0m\u001b[0m\n\u001b[1;32m---> 47\u001b[1;33m         \u001b[1;32mraise\u001b[0m \u001b[0mPortfolioBuilderException\u001b[0m\u001b[1;33m(\u001b[0m\u001b[0moptimizer\u001b[0m\u001b[1;33m.\u001b[0m\u001b[0mstatus\u001b[0m\u001b[1;33m(\u001b[0m\u001b[1;33m)\u001b[0m\u001b[1;33m)\u001b[0m\u001b[1;33m\u001b[0m\u001b[1;33m\u001b[0m\u001b[0m\n\u001b[0m\u001b[0;32m     48\u001b[0m \u001b[1;33m\u001b[0m\u001b[0m\n\u001b[0;32m     49\u001b[0m \u001b[1;33m\u001b[0m\u001b[0m\n",
      "\u001b[1;31mPortfolioBuilderException\u001b[0m: -13"
     ]
    }
   ],
   "source": [
    "df = pd.DataFrame(columns=u_names, index=['cvxpy', 'alphamind'])\n",
    "number = 1\n",
    "target_vol = 0.5\n",
    "\n",
    "\n",
    "for u_name, sample_data in zip(u_names, data_set):\n",
    "    all_styles = risk_styles + industry_styles + ['COUNTRY']\n",
    "    factor_data = sample_data['factor']\n",
    "    risk_cov = sample_data['risk_cov'][all_styles].values\n",
    "    risk_exposure = factor_data[all_styles].values\n",
    "    special_risk = factor_data.srisk.values\n",
    "    sec_cov = risk_exposure @ risk_cov @ risk_exposure.T / 10000 + np.diag(special_risk ** 2) / 10000\n",
    "    er = factor_data[factor].values\n",
    "    n = len(er)\n",
    "    \n",
    "    if 'weight' in factor_data:\n",
    "        bm = factor_data.weight.values\n",
    "    else:\n",
    "        bm = np.ones_like(er) / n\n",
    "    lbound = np.zeros(n)\n",
    "    ubound = np.ones(n) * 0.1\n",
    "    \n",
    "    risk_constraints = np.ones((n, 1))\n",
    "    risk_target = (np.array([bm.sum()]), np.array([bm.sum()]))\n",
    "    risk_model = dict(cov=None, factor_cov=risk_cov/10000., factor_loading=risk_exposure, idsync=(special_risk**2)/10000.)\n",
    "\n",
    "    status, y, x1 = target_vol_builder(er,\n",
    "                                       risk_model,\n",
    "                                       bm,\n",
    "                                       lbound,\n",
    "                                       ubound,\n",
    "                                       risk_constraints,\n",
    "                                       risk_target,\n",
    "                                       vol_target=target_vol)\n",
    "    elasped_time1 = timeit.timeit(\"\"\"target_vol_builder(er,\n",
    "                                       risk_model,\n",
    "                                       bm,\n",
    "                                       lbound,\n",
    "                                       ubound,\n",
    "                                       risk_constraints,\n",
    "                                       risk_target,\n",
    "                                       vol_target=target_vol)\"\"\",\n",
    "                                  number=number, globals=globals()) / number * 1000\n",
    "    \n",
    "    w = cvxpy.Variable(n)\n",
    "    risk = sum_squares(multiply(special_risk / 100., w)) + quad_form((w.T * risk_exposure).T, risk_cov / 10000.)\n",
    "    objective = cvxpy.Minimize(-w.T * er)\n",
    "    curr_risk_exposure = risk_constraints.T @ w\n",
    "    constraints = [w >= lbound,\n",
    "                   w <= ubound,\n",
    "                   curr_risk_exposure == risk_target[0],\n",
    "                   risk <= target_vol * target_vol]\n",
    "    prob = cvxpy.Problem(objective, constraints)\n",
    "    prob.solve(solver='ECOS')\n",
    "    elasped_time2 = timeit.timeit(\"prob.solve(solver='ECOS')\",\n",
    "                                  number=number, globals=globals()) / number * 1000\n",
    "\n",
    "    u1 = -x1 @ er\n",
    "    x2 = np.array(w.value).flatten()\n",
    "    u2 =  -x2 @ er\n",
    "    \n",
    "    np.testing.assert_array_almost_equal(u1, u2, 4)\n",
    "\n",
    "    df.loc['alphamind', u_name] = elasped_time1\n",
    "    df.loc['cvxpy', u_name] = elasped_time2\n",
    "    alpha_logger.info(f\"{u_name} is finished\")"
   ]
  },
  {
   "cell_type": "code",
   "execution_count": 15,
   "metadata": {},
   "outputs": [
    {
     "data": {
      "text/html": [
       "<div>\n",
       "<style scoped>\n",
       "    .dataframe tbody tr th:only-of-type {\n",
       "        vertical-align: middle;\n",
       "    }\n",
       "\n",
       "    .dataframe tbody tr th {\n",
       "        vertical-align: top;\n",
       "    }\n",
       "\n",
       "    .dataframe thead th {\n",
       "        text-align: right;\n",
       "    }\n",
       "</style>\n",
       "<table border=\"1\" class=\"dataframe\">\n",
       "  <thead>\n",
       "    <tr style=\"text-align: right;\">\n",
       "      <th></th>\n",
       "      <th>hs300</th>\n",
       "    </tr>\n",
       "  </thead>\n",
       "  <tbody>\n",
       "    <tr>\n",
       "      <th>cvxpy</th>\n",
       "      <td>NaN</td>\n",
       "    </tr>\n",
       "    <tr>\n",
       "      <th>alphamind</th>\n",
       "      <td>NaN</td>\n",
       "    </tr>\n",
       "  </tbody>\n",
       "</table>\n",
       "</div>"
      ],
      "text/plain": [
       "          hs300\n",
       "cvxpy       NaN\n",
       "alphamind   NaN"
      ]
     },
     "execution_count": 15,
     "metadata": {},
     "output_type": "execute_result"
    }
   ],
   "source": [
    "df"
   ]
  },
  {
   "cell_type": "code",
   "execution_count": null,
   "metadata": {},
   "outputs": [],
   "source": []
  }
 ],
 "metadata": {
  "kernelspec": {
   "display_name": "Python [conda env:alpha-mind]",
   "language": "python",
   "name": "conda-env-alpha-mind-py"
  },
  "language_info": {
   "codemirror_mode": {
    "name": "ipython",
    "version": 3
   },
   "file_extension": ".py",
   "mimetype": "text/x-python",
   "name": "python",
   "nbconvert_exporter": "python",
   "pygments_lexer": "ipython3",
   "version": "3.7.9"
  },
  "varInspector": {
   "cols": {
    "lenName": 16,
    "lenType": 16,
    "lenVar": 40
   },
   "kernels_config": {
    "python": {
     "delete_cmd_postfix": "",
     "delete_cmd_prefix": "del ",
     "library": "var_list.py",
     "varRefreshCmd": "print(var_dic_list())"
    },
    "r": {
     "delete_cmd_postfix": ") ",
     "delete_cmd_prefix": "rm(",
     "library": "var_list.r",
     "varRefreshCmd": "cat(var_dic_list()) "
    }
   },
   "position": {
    "height": "819px",
    "left": "1947px",
    "right": "20px",
    "top": "156px",
    "width": "504px"
   },
   "types_to_exclude": [
    "module",
    "function",
    "builtin_function_or_method",
    "instance",
    "_Feature"
   ],
   "window_display": false
  }
 },
 "nbformat": 4,
 "nbformat_minor": 4
}
