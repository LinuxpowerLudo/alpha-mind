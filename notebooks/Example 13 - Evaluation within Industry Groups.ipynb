{
 "cells": [
  {
   "cell_type": "markdown",
   "metadata": {},
   "source": [
    "* 使用行业内的排序，进行因子测试；与回归版本，以及原始因子值版本进行比较。本部分参考自《QEPM》 p.p 117\n",
    "* 请在环境变量中设置`DB_URI`指向数据库"
   ]
  },
  {
   "cell_type": "markdown",
   "metadata": {},
   "source": [
    "# 参数设定\n",
    "--------------"
   ]
  },
  {
   "cell_type": "code",
   "execution_count": 1,
   "metadata": {},
   "outputs": [],
   "source": [
    "%matplotlib inline\n",
    "import os\n",
    "import pandas as pd\n",
    "import numpy as np\n",
    "from PyFin.api import *\n",
    "from alphamind.api import *\n",
    "\n",
    "factor = \"EMA5D\"\n",
    "universe = Universe('zz800')\n",
    "start_date = '2020-01-01'\n",
    "end_date = '2020-02-21'\n",
    "freq = '10b'\n",
    "category = 'sw'\n",
    "level = 1\n",
    "horizon = map_freq(freq)\n",
    "\n",
    "engine = SqlEngine(os.environ['DB_URI'])\n",
    "\n",
    "ref_dates = makeSchedule(start_date, end_date, freq, 'china.sse')\n",
    "sample_date = '2018-01-04'\n",
    "sample_codes = engine.fetch_codes(sample_date, universe)\n",
    "\n",
    "sample_industry = engine.fetch_industry(sample_date, sample_codes, category=category, level=level)"
   ]
  },
  {
   "cell_type": "code",
   "execution_count": 2,
   "metadata": {},
   "outputs": [
    {
     "data": {
      "text/html": [
       "<div>\n",
       "<style scoped>\n",
       "    .dataframe tbody tr th:only-of-type {\n",
       "        vertical-align: middle;\n",
       "    }\n",
       "\n",
       "    .dataframe tbody tr th {\n",
       "        vertical-align: top;\n",
       "    }\n",
       "\n",
       "    .dataframe thead th {\n",
       "        text-align: right;\n",
       "    }\n",
       "</style>\n",
       "<table border=\"1\" class=\"dataframe\">\n",
       "  <thead>\n",
       "    <tr style=\"text-align: right;\">\n",
       "      <th></th>\n",
       "      <th>code</th>\n",
       "      <th>industry_code</th>\n",
       "      <th>industry</th>\n",
       "    </tr>\n",
       "  </thead>\n",
       "  <tbody>\n",
       "    <tr>\n",
       "      <th>0</th>\n",
       "      <td>2010001130</td>\n",
       "      <td>110000</td>\n",
       "      <td>农林牧渔</td>\n",
       "    </tr>\n",
       "    <tr>\n",
       "      <th>1</th>\n",
       "      <td>2010001343</td>\n",
       "      <td>110000</td>\n",
       "      <td>农林牧渔</td>\n",
       "    </tr>\n",
       "    <tr>\n",
       "      <th>2</th>\n",
       "      <td>2010001388</td>\n",
       "      <td>110000</td>\n",
       "      <td>农林牧渔</td>\n",
       "    </tr>\n",
       "    <tr>\n",
       "      <th>3</th>\n",
       "      <td>2010001440</td>\n",
       "      <td>110000</td>\n",
       "      <td>农林牧渔</td>\n",
       "    </tr>\n",
       "    <tr>\n",
       "      <th>4</th>\n",
       "      <td>2010001484</td>\n",
       "      <td>110000</td>\n",
       "      <td>农林牧渔</td>\n",
       "    </tr>\n",
       "  </tbody>\n",
       "</table>\n",
       "</div>"
      ],
      "text/plain": [
       "         code industry_code industry\n",
       "0  2010001130        110000     农林牧渔\n",
       "1  2010001343        110000     农林牧渔\n",
       "2  2010001388        110000     农林牧渔\n",
       "3  2010001440        110000     农林牧渔\n",
       "4  2010001484        110000     农林牧渔"
      ]
     },
     "execution_count": 2,
     "metadata": {},
     "output_type": "execute_result"
    }
   ],
   "source": [
    "sample_industry.head()"
   ]
  },
  {
   "cell_type": "markdown",
   "metadata": {},
   "source": [
    "# 样例因子\n",
    "--------------------\n",
    "\n",
    "我们下面分三种方法，分别考查这几种方法在避免行业集中上面的效果：\n",
    "\n",
    "* 使用原始因子的排序；\n",
    "* 使用原始因子在行业内的排序；\n",
    "* 使用原始因子在行业哑变量上回归后得到的残差排序。"
   ]
  },
  {
   "cell_type": "markdown",
   "metadata": {},
   "source": [
    "## 1. 原始因子排序\n",
    "--------------------"
   ]
  },
  {
   "cell_type": "code",
   "execution_count": 3,
   "metadata": {},
   "outputs": [],
   "source": [
    "factor1 = {'f1': CSQuantiles(factor)}\n",
    "sample_factor1 = engine.fetch_factor(sample_date, factor1, sample_codes)\n",
    "sample_factor1 = pd.merge(sample_factor1, sample_industry[['code', 'industry']], on='code')"
   ]
  },
  {
   "cell_type": "code",
   "execution_count": 4,
   "metadata": {},
   "outputs": [
    {
     "data": {
      "text/html": [
       "<div>\n",
       "<style scoped>\n",
       "    .dataframe tbody tr th:only-of-type {\n",
       "        vertical-align: middle;\n",
       "    }\n",
       "\n",
       "    .dataframe tbody tr th {\n",
       "        vertical-align: top;\n",
       "    }\n",
       "\n",
       "    .dataframe thead th {\n",
       "        text-align: right;\n",
       "    }\n",
       "</style>\n",
       "<table border=\"1\" class=\"dataframe\">\n",
       "  <thead>\n",
       "    <tr style=\"text-align: right;\">\n",
       "      <th></th>\n",
       "      <th>f1</th>\n",
       "      <th>code</th>\n",
       "      <th>chgPct</th>\n",
       "      <th>secShortName</th>\n",
       "      <th>industry</th>\n",
       "    </tr>\n",
       "  </thead>\n",
       "  <tbody>\n",
       "    <tr>\n",
       "      <th>158</th>\n",
       "      <td>0.93875</td>\n",
       "      <td>2010000438</td>\n",
       "      <td>2.9629</td>\n",
       "      <td>贵州茅台</td>\n",
       "      <td>食品饮料</td>\n",
       "    </tr>\n",
       "    <tr>\n",
       "      <th>790</th>\n",
       "      <td>0.93750</td>\n",
       "      <td>2010024107</td>\n",
       "      <td>4.0481</td>\n",
       "      <td>吉比特</td>\n",
       "      <td>传媒</td>\n",
       "    </tr>\n",
       "    <tr>\n",
       "      <th>379</th>\n",
       "      <td>0.93625</td>\n",
       "      <td>2010001184</td>\n",
       "      <td>-1.3759</td>\n",
       "      <td>长春高新</td>\n",
       "      <td>医药生物</td>\n",
       "    </tr>\n",
       "    <tr>\n",
       "      <th>796</th>\n",
       "      <td>0.93500</td>\n",
       "      <td>2010025522</td>\n",
       "      <td>2.3616</td>\n",
       "      <td>欧派家居</td>\n",
       "      <td>轻工制造</td>\n",
       "    </tr>\n",
       "    <tr>\n",
       "      <th>549</th>\n",
       "      <td>0.93375</td>\n",
       "      <td>2010003350</td>\n",
       "      <td>4.9892</td>\n",
       "      <td>洋河股份</td>\n",
       "      <td>食品饮料</td>\n",
       "    </tr>\n",
       "    <tr>\n",
       "      <th>353</th>\n",
       "      <td>0.93250</td>\n",
       "      <td>2010001081</td>\n",
       "      <td>1.5226</td>\n",
       "      <td>云南白药</td>\n",
       "      <td>医药生物</td>\n",
       "    </tr>\n",
       "    <tr>\n",
       "      <th>777</th>\n",
       "      <td>0.93125</td>\n",
       "      <td>2010021893</td>\n",
       "      <td>0.1602</td>\n",
       "      <td>汇顶科技</td>\n",
       "      <td>电子</td>\n",
       "    </tr>\n",
       "    <tr>\n",
       "      <th>737</th>\n",
       "      <td>0.93000</td>\n",
       "      <td>2010009579</td>\n",
       "      <td>3.0056</td>\n",
       "      <td>华友钴业</td>\n",
       "      <td>有色金属</td>\n",
       "    </tr>\n",
       "    <tr>\n",
       "      <th>421</th>\n",
       "      <td>0.92875</td>\n",
       "      <td>2010001333</td>\n",
       "      <td>2.5834</td>\n",
       "      <td>五 粮 液</td>\n",
       "      <td>食品饮料</td>\n",
       "    </tr>\n",
       "    <tr>\n",
       "      <th>756</th>\n",
       "      <td>0.92750</td>\n",
       "      <td>2010015152</td>\n",
       "      <td>-0.4647</td>\n",
       "      <td>飞科电器</td>\n",
       "      <td>家用电器</td>\n",
       "    </tr>\n",
       "    <tr>\n",
       "      <th>793</th>\n",
       "      <td>0.92625</td>\n",
       "      <td>2010024237</td>\n",
       "      <td>-0.7333</td>\n",
       "      <td>视源股份</td>\n",
       "      <td>电子</td>\n",
       "    </tr>\n",
       "    <tr>\n",
       "      <th>614</th>\n",
       "      <td>0.92500</td>\n",
       "      <td>2010003976</td>\n",
       "      <td>0.0812</td>\n",
       "      <td>赣锋锂业</td>\n",
       "      <td>有色金属</td>\n",
       "    </tr>\n",
       "    <tr>\n",
       "      <th>433</th>\n",
       "      <td>0.92375</td>\n",
       "      <td>2010001395</td>\n",
       "      <td>-0.5938</td>\n",
       "      <td>紫光股份</td>\n",
       "      <td>计算机</td>\n",
       "    </tr>\n",
       "    <tr>\n",
       "      <th>288</th>\n",
       "      <td>0.92250</td>\n",
       "      <td>2010000857</td>\n",
       "      <td>0.2959</td>\n",
       "      <td>中国平安</td>\n",
       "      <td>非银金融</td>\n",
       "    </tr>\n",
       "    <tr>\n",
       "      <th>91</th>\n",
       "      <td>0.92125</td>\n",
       "      <td>2010000243</td>\n",
       "      <td>2.5280</td>\n",
       "      <td>恒瑞医药</td>\n",
       "      <td>医药生物</td>\n",
       "    </tr>\n",
       "  </tbody>\n",
       "</table>\n",
       "</div>"
      ],
      "text/plain": [
       "          f1        code  chgPct secShortName industry\n",
       "158  0.93875  2010000438  2.9629         贵州茅台     食品饮料\n",
       "790  0.93750  2010024107  4.0481          吉比特       传媒\n",
       "379  0.93625  2010001184 -1.3759         长春高新     医药生物\n",
       "796  0.93500  2010025522  2.3616         欧派家居     轻工制造\n",
       "549  0.93375  2010003350  4.9892         洋河股份     食品饮料\n",
       "353  0.93250  2010001081  1.5226         云南白药     医药生物\n",
       "777  0.93125  2010021893  0.1602         汇顶科技       电子\n",
       "737  0.93000  2010009579  3.0056         华友钴业     有色金属\n",
       "421  0.92875  2010001333  2.5834        五 粮 液     食品饮料\n",
       "756  0.92750  2010015152 -0.4647         飞科电器     家用电器\n",
       "793  0.92625  2010024237 -0.7333         视源股份       电子\n",
       "614  0.92500  2010003976  0.0812         赣锋锂业     有色金属\n",
       "433  0.92375  2010001395 -0.5938         紫光股份      计算机\n",
       "288  0.92250  2010000857  0.2959         中国平安     非银金融\n",
       "91   0.92125  2010000243  2.5280         恒瑞医药     医药生物"
      ]
     },
     "execution_count": 4,
     "metadata": {},
     "output_type": "execute_result"
    }
   ],
   "source": [
    "sample_factor1.sort_values('f1', ascending=False).head(15)"
   ]
  },
  {
   "cell_type": "markdown",
   "metadata": {},
   "source": [
    "对于原始因子，如果我们不做任何行业上面的处理，发现我们选定的alpha因子`CFO2EV`较大的股票集中于银行和大金融板块。"
   ]
  },
  {
   "cell_type": "markdown",
   "metadata": {},
   "source": [
    "## 2. 行业内排序因子\n",
    "----------------------"
   ]
  },
  {
   "cell_type": "markdown",
   "metadata": {},
   "source": [
    "这里我们使用调整后的申万行业分类作为行业标签："
   ]
  },
  {
   "cell_type": "code",
   "execution_count": 5,
   "metadata": {},
   "outputs": [
    {
     "data": {
      "text/html": [
       "<div>\n",
       "<style scoped>\n",
       "    .dataframe tbody tr th:only-of-type {\n",
       "        vertical-align: middle;\n",
       "    }\n",
       "\n",
       "    .dataframe tbody tr th {\n",
       "        vertical-align: top;\n",
       "    }\n",
       "\n",
       "    .dataframe thead th {\n",
       "        text-align: right;\n",
       "    }\n",
       "</style>\n",
       "<table border=\"1\" class=\"dataframe\">\n",
       "  <thead>\n",
       "    <tr style=\"text-align: right;\">\n",
       "      <th></th>\n",
       "      <th>f2</th>\n",
       "      <th>code</th>\n",
       "      <th>chgPct</th>\n",
       "      <th>secShortName</th>\n",
       "      <th>industry</th>\n",
       "    </tr>\n",
       "  </thead>\n",
       "  <tbody>\n",
       "    <tr>\n",
       "      <th>158</th>\n",
       "      <td>0.93875</td>\n",
       "      <td>2010000438</td>\n",
       "      <td>2.9629</td>\n",
       "      <td>贵州茅台</td>\n",
       "      <td>食品饮料</td>\n",
       "    </tr>\n",
       "    <tr>\n",
       "      <th>790</th>\n",
       "      <td>0.93750</td>\n",
       "      <td>2010024107</td>\n",
       "      <td>4.0481</td>\n",
       "      <td>吉比特</td>\n",
       "      <td>传媒</td>\n",
       "    </tr>\n",
       "    <tr>\n",
       "      <th>379</th>\n",
       "      <td>0.93625</td>\n",
       "      <td>2010001184</td>\n",
       "      <td>-1.3759</td>\n",
       "      <td>长春高新</td>\n",
       "      <td>医药生物</td>\n",
       "    </tr>\n",
       "    <tr>\n",
       "      <th>796</th>\n",
       "      <td>0.93500</td>\n",
       "      <td>2010025522</td>\n",
       "      <td>2.3616</td>\n",
       "      <td>欧派家居</td>\n",
       "      <td>轻工制造</td>\n",
       "    </tr>\n",
       "    <tr>\n",
       "      <th>549</th>\n",
       "      <td>0.93375</td>\n",
       "      <td>2010003350</td>\n",
       "      <td>4.9892</td>\n",
       "      <td>洋河股份</td>\n",
       "      <td>食品饮料</td>\n",
       "    </tr>\n",
       "    <tr>\n",
       "      <th>353</th>\n",
       "      <td>0.93250</td>\n",
       "      <td>2010001081</td>\n",
       "      <td>1.5226</td>\n",
       "      <td>云南白药</td>\n",
       "      <td>医药生物</td>\n",
       "    </tr>\n",
       "    <tr>\n",
       "      <th>777</th>\n",
       "      <td>0.93125</td>\n",
       "      <td>2010021893</td>\n",
       "      <td>0.1602</td>\n",
       "      <td>汇顶科技</td>\n",
       "      <td>电子</td>\n",
       "    </tr>\n",
       "    <tr>\n",
       "      <th>737</th>\n",
       "      <td>0.93000</td>\n",
       "      <td>2010009579</td>\n",
       "      <td>3.0056</td>\n",
       "      <td>华友钴业</td>\n",
       "      <td>有色金属</td>\n",
       "    </tr>\n",
       "    <tr>\n",
       "      <th>421</th>\n",
       "      <td>0.92875</td>\n",
       "      <td>2010001333</td>\n",
       "      <td>2.5834</td>\n",
       "      <td>五 粮 液</td>\n",
       "      <td>食品饮料</td>\n",
       "    </tr>\n",
       "    <tr>\n",
       "      <th>756</th>\n",
       "      <td>0.92750</td>\n",
       "      <td>2010015152</td>\n",
       "      <td>-0.4647</td>\n",
       "      <td>飞科电器</td>\n",
       "      <td>家用电器</td>\n",
       "    </tr>\n",
       "    <tr>\n",
       "      <th>793</th>\n",
       "      <td>0.92625</td>\n",
       "      <td>2010024237</td>\n",
       "      <td>-0.7333</td>\n",
       "      <td>视源股份</td>\n",
       "      <td>电子</td>\n",
       "    </tr>\n",
       "    <tr>\n",
       "      <th>614</th>\n",
       "      <td>0.92500</td>\n",
       "      <td>2010003976</td>\n",
       "      <td>0.0812</td>\n",
       "      <td>赣锋锂业</td>\n",
       "      <td>有色金属</td>\n",
       "    </tr>\n",
       "    <tr>\n",
       "      <th>433</th>\n",
       "      <td>0.92375</td>\n",
       "      <td>2010001395</td>\n",
       "      <td>-0.5938</td>\n",
       "      <td>紫光股份</td>\n",
       "      <td>计算机</td>\n",
       "    </tr>\n",
       "    <tr>\n",
       "      <th>288</th>\n",
       "      <td>0.92250</td>\n",
       "      <td>2010000857</td>\n",
       "      <td>0.2959</td>\n",
       "      <td>中国平安</td>\n",
       "      <td>非银金融</td>\n",
       "    </tr>\n",
       "    <tr>\n",
       "      <th>91</th>\n",
       "      <td>0.92125</td>\n",
       "      <td>2010000243</td>\n",
       "      <td>2.5280</td>\n",
       "      <td>恒瑞医药</td>\n",
       "      <td>医药生物</td>\n",
       "    </tr>\n",
       "  </tbody>\n",
       "</table>\n",
       "</div>"
      ],
      "text/plain": [
       "          f2        code  chgPct secShortName industry\n",
       "158  0.93875  2010000438  2.9629         贵州茅台     食品饮料\n",
       "790  0.93750  2010024107  4.0481          吉比特       传媒\n",
       "379  0.93625  2010001184 -1.3759         长春高新     医药生物\n",
       "796  0.93500  2010025522  2.3616         欧派家居     轻工制造\n",
       "549  0.93375  2010003350  4.9892         洋河股份     食品饮料\n",
       "353  0.93250  2010001081  1.5226         云南白药     医药生物\n",
       "777  0.93125  2010021893  0.1602         汇顶科技       电子\n",
       "737  0.93000  2010009579  3.0056         华友钴业     有色金属\n",
       "421  0.92875  2010001333  2.5834        五 粮 液     食品饮料\n",
       "756  0.92750  2010015152 -0.4647         飞科电器     家用电器\n",
       "793  0.92625  2010024237 -0.7333         视源股份       电子\n",
       "614  0.92500  2010003976  0.0812         赣锋锂业     有色金属\n",
       "433  0.92375  2010001395 -0.5938         紫光股份      计算机\n",
       "288  0.92250  2010000857  0.2959         中国平安     非银金融\n",
       "91   0.92125  2010000243  2.5280         恒瑞医药     医药生物"
      ]
     },
     "execution_count": 5,
     "metadata": {},
     "output_type": "execute_result"
    }
   ],
   "source": [
    "factor2 = {'f2': CSQuantiles(factor)}\n",
    "sample_factor2 = engine.fetch_factor(sample_date, factor2, sample_codes)\n",
    "sample_factor2 = pd.merge(sample_factor2, sample_industry[['code', 'industry']], on='code')\n",
    "sample_factor2.sort_values('f2', ascending=False).head(15)"
   ]
  },
  {
   "cell_type": "markdown",
   "metadata": {},
   "source": [
    "使用行业内的排序，则行业分布会比较平均。"
   ]
  },
  {
   "cell_type": "markdown",
   "metadata": {},
   "source": [
    "## 3. 使用回归将因子行业中性\n",
    "--------------------------------"
   ]
  },
  {
   "cell_type": "markdown",
   "metadata": {},
   "source": [
    "还有一种思路，使用线性回归，以行业为哑变量，使用回归后的残差作为因子的替代值，做到行业中性："
   ]
  },
  {
   "cell_type": "code",
   "execution_count": 6,
   "metadata": {},
   "outputs": [],
   "source": [
    "factor3 = {'f3': factor}\n",
    "sample_factor3 = engine.fetch_factor(sample_date, factor3, sample_codes)\n",
    "risk_cov, risk_exp = engine.fetch_risk_model(sample_date, sample_codes)\n",
    "sample_factor3 = pd.merge(sample_factor3, sample_industry[['code', 'industry']], on='code')\n",
    "sample_factor3 = pd.merge(sample_factor3, risk_exp, on='code')"
   ]
  },
  {
   "cell_type": "code",
   "execution_count": 7,
   "metadata": {},
   "outputs": [],
   "source": [
    "raw_factors = sample_factor3['f3'].values\n",
    "industry_exp = sample_factor3[industry_styles + ['COUNTRY']].values.astype(float)\n",
    "processed_values = factor_processing(raw_factors, pre_process=[], risk_factors=industry_exp, post_process=[percentile])\n",
    "sample_factor3['f3'] = processed_values"
   ]
  },
  {
   "cell_type": "code",
   "execution_count": 8,
   "metadata": {},
   "outputs": [
    {
     "data": {
      "text/html": [
       "<div>\n",
       "<style scoped>\n",
       "    .dataframe tbody tr th:only-of-type {\n",
       "        vertical-align: middle;\n",
       "    }\n",
       "\n",
       "    .dataframe tbody tr th {\n",
       "        vertical-align: top;\n",
       "    }\n",
       "\n",
       "    .dataframe thead th {\n",
       "        text-align: right;\n",
       "    }\n",
       "</style>\n",
       "<table border=\"1\" class=\"dataframe\">\n",
       "  <thead>\n",
       "    <tr style=\"text-align: right;\">\n",
       "      <th></th>\n",
       "      <th>code</th>\n",
       "      <th>f3</th>\n",
       "      <th>industry</th>\n",
       "    </tr>\n",
       "  </thead>\n",
       "  <tbody>\n",
       "    <tr>\n",
       "      <th>799</th>\n",
       "      <td>2010026653</td>\n",
       "      <td>1.000000</td>\n",
       "      <td>非银金融</td>\n",
       "    </tr>\n",
       "    <tr>\n",
       "      <th>262</th>\n",
       "      <td>2010000791</td>\n",
       "      <td>0.998748</td>\n",
       "      <td>传媒</td>\n",
       "    </tr>\n",
       "    <tr>\n",
       "      <th>272</th>\n",
       "      <td>2010000818</td>\n",
       "      <td>0.997497</td>\n",
       "      <td>国防军工</td>\n",
       "    </tr>\n",
       "    <tr>\n",
       "      <th>271</th>\n",
       "      <td>2010000811</td>\n",
       "      <td>0.996245</td>\n",
       "      <td>公用事业</td>\n",
       "    </tr>\n",
       "    <tr>\n",
       "      <th>270</th>\n",
       "      <td>2010000806</td>\n",
       "      <td>0.994994</td>\n",
       "      <td>房地产</td>\n",
       "    </tr>\n",
       "    <tr>\n",
       "      <th>269</th>\n",
       "      <td>2010000805</td>\n",
       "      <td>0.993742</td>\n",
       "      <td>机械设备</td>\n",
       "    </tr>\n",
       "    <tr>\n",
       "      <th>268</th>\n",
       "      <td>2010000804</td>\n",
       "      <td>0.992491</td>\n",
       "      <td>国防军工</td>\n",
       "    </tr>\n",
       "    <tr>\n",
       "      <th>267</th>\n",
       "      <td>2010000798</td>\n",
       "      <td>0.991239</td>\n",
       "      <td>食品饮料</td>\n",
       "    </tr>\n",
       "    <tr>\n",
       "      <th>266</th>\n",
       "      <td>2010000797</td>\n",
       "      <td>0.989987</td>\n",
       "      <td>公用事业</td>\n",
       "    </tr>\n",
       "    <tr>\n",
       "      <th>265</th>\n",
       "      <td>2010000796</td>\n",
       "      <td>0.988736</td>\n",
       "      <td>电气设备</td>\n",
       "    </tr>\n",
       "    <tr>\n",
       "      <th>264</th>\n",
       "      <td>2010000795</td>\n",
       "      <td>0.987484</td>\n",
       "      <td>电子</td>\n",
       "    </tr>\n",
       "    <tr>\n",
       "      <th>263</th>\n",
       "      <td>2010000792</td>\n",
       "      <td>0.986233</td>\n",
       "      <td>建筑材料</td>\n",
       "    </tr>\n",
       "    <tr>\n",
       "      <th>261</th>\n",
       "      <td>2010000790</td>\n",
       "      <td>0.984981</td>\n",
       "      <td>国防军工</td>\n",
       "    </tr>\n",
       "    <tr>\n",
       "      <th>798</th>\n",
       "      <td>2010025703</td>\n",
       "      <td>0.983730</td>\n",
       "      <td>化工</td>\n",
       "    </tr>\n",
       "    <tr>\n",
       "      <th>260</th>\n",
       "      <td>2010000786</td>\n",
       "      <td>0.982478</td>\n",
       "      <td>电气设备</td>\n",
       "    </tr>\n",
       "  </tbody>\n",
       "</table>\n",
       "</div>"
      ],
      "text/plain": [
       "           code        f3 industry\n",
       "799  2010026653  1.000000     非银金融\n",
       "262  2010000791  0.998748       传媒\n",
       "272  2010000818  0.997497     国防军工\n",
       "271  2010000811  0.996245     公用事业\n",
       "270  2010000806  0.994994      房地产\n",
       "269  2010000805  0.993742     机械设备\n",
       "268  2010000804  0.992491     国防军工\n",
       "267  2010000798  0.991239     食品饮料\n",
       "266  2010000797  0.989987     公用事业\n",
       "265  2010000796  0.988736     电气设备\n",
       "264  2010000795  0.987484       电子\n",
       "263  2010000792  0.986233     建筑材料\n",
       "261  2010000790  0.984981     国防军工\n",
       "798  2010025703  0.983730       化工\n",
       "260  2010000786  0.982478     电气设备"
      ]
     },
     "execution_count": 8,
     "metadata": {},
     "output_type": "execute_result"
    }
   ],
   "source": [
    "sample_factor3 = sample_factor3[['code', 'f3', 'industry']]\n",
    "sample_factor3.sort_values('f3', ascending=False).head(15)"
   ]
  },
  {
   "cell_type": "markdown",
   "metadata": {},
   "source": [
    "我们发现这种方法的效果并不是很好。调整的幅度并不是很大，同时仍然存在着集中于大金融板块的问题。"
   ]
  },
  {
   "cell_type": "markdown",
   "metadata": {},
   "source": [
    "# 回测结果\n",
    "------------------"
   ]
  },
  {
   "cell_type": "markdown",
   "metadata": {},
   "source": [
    "我们使用简单等权重做多前20%支股票，做空后20%的方法，考察三种方法的效果："
   ]
  },
  {
   "cell_type": "code",
   "execution_count": 9,
   "metadata": {},
   "outputs": [],
   "source": [
    "factors = {\n",
    "    'raw': CSQuantiles(factor),\n",
    "    'peer quantile': CSQuantiles(factor),\n",
    "    'risk neutral': LAST(factor)\n",
    "}"
   ]
  },
  {
   "cell_type": "code",
   "execution_count": 10,
   "metadata": {},
   "outputs": [
    {
     "name": "stdout",
     "output_type": "stream",
     "text": [
      "2020-01-02 00:00:00 is finished\n",
      "2020-01-16 00:00:00 is finished\n",
      "2020-02-07 00:00:00 is finished\n",
      "2020-02-21 00:00:00 is finished\n"
     ]
    }
   ],
   "source": [
    "df_ret = pd.DataFrame(columns=['raw', 'peer quantile', 'risk neutral'])\n",
    "df_ic = pd.DataFrame(columns=['raw', 'peer quantile', 'risk neutral'])\n",
    "\n",
    "for date in ref_dates:\n",
    "    ref_date = date.strftime('%Y-%m-%d')\n",
    "    codes = engine.fetch_codes(ref_date, universe)\n",
    "\n",
    "    total_factor = engine.fetch_factor(ref_date, factors, codes)\n",
    "    risk_cov, risk_exp = engine.fetch_risk_model(ref_date, codes)\n",
    "    industry = engine.fetch_industry(ref_date, codes, category=category, level=level)\n",
    "    rets = engine.fetch_dx_return(ref_date, codes, horizon=horizon, offset=1)\n",
    "    total_factor = pd.merge(total_factor, industry[['code', 'industry']], on='code')\n",
    "    total_factor = pd.merge(total_factor, risk_exp, on='code')\n",
    "    total_factor = pd.merge(total_factor, rets, on='code').dropna()\n",
    "\n",
    "    raw_factors = total_factor['risk neutral'].values\n",
    "    industry_exp = total_factor[industry_styles + ['COUNTRY']].values.astype(float)\n",
    "    processed_values = factor_processing(raw_factors, pre_process=[], risk_factors=industry_exp, post_process=[percentile])\n",
    "    total_factor['risk neutral'] = processed_values\n",
    "\n",
    "    total_factor[['f1_d', 'f2_d', 'f3_d']] = (total_factor[['raw', 'peer quantile', 'risk neutral']] >= 0.8) * 1.\n",
    "    total_factor.loc[total_factor['raw'] <= 0.2, 'f1_d'] = -1.\n",
    "    total_factor.loc[total_factor['peer quantile'] <= 0.2, 'f2_d'] = -1.\n",
    "    total_factor.loc[total_factor['risk neutral'] <= 0.2, 'f3_d'] = -1.\n",
    "    total_factor[['f1_d', 'f2_d', 'f3_d']] /= np.abs(total_factor[['f1_d', 'f2_d', 'f3_d']]).sum(axis=0)\n",
    "\n",
    "    ret_values = total_factor.dx.values @ total_factor[['f1_d', 'f2_d', 'f3_d']].values\n",
    "    df_ret.loc[date] = ret_values\n",
    "    \n",
    "    ic_values = total_factor[['dx', 'raw', 'peer quantile', 'risk neutral']].corr().values[0, 1:]\n",
    "    df_ic.loc[date] = ic_values\n",
    "    print(f\"{date} is finished\")"
   ]
  },
  {
   "cell_type": "code",
   "execution_count": 11,
   "metadata": {},
   "outputs": [
    {
     "data": {
      "text/plain": [
       "<AxesSubplot:>"
      ]
     },
     "execution_count": 11,
     "metadata": {},
     "output_type": "execute_result"
    },
    {
     "data": {
      "image/png": "[encoded data removed]",
      "text/plain": [
       "<Figure size 1008x504 with 1 Axes>"
      ]
     },
     "metadata": {
      "needs_background": "light"
     },
     "output_type": "display_data"
    }
   ],
   "source": [
    "df_ret.cumsum().plot(figsize=(14, 7))"
   ]
  },
  {
   "cell_type": "code",
   "execution_count": 12,
   "metadata": {},
   "outputs": [
    {
     "data": {
      "text/plain": [
       "<AxesSubplot:>"
      ]
     },
     "execution_count": 12,
     "metadata": {},
     "output_type": "execute_result"
    },
    {
     "data": {
      "image/png": "[encoded data removed]",
      "text/plain": [
       "<Figure size 1008x504 with 1 Axes>"
      ]
     },
     "metadata": {
      "needs_background": "light"
     },
     "output_type": "display_data"
    }
   ],
   "source": [
    "df_ic.cumsum().plot(figsize=(14, 7))"
   ]
  },
  {
   "cell_type": "code",
   "execution_count": null,
   "metadata": {},
   "outputs": [],
   "source": []
  }
 ],
 "metadata": {
  "kernelspec": {
   "display_name": "Python [conda env:alpha-mind]",
   "language": "python",
   "name": "conda-env-alpha-mind-py"
  },
  "language_info": {
   "codemirror_mode": {
    "name": "ipython",
    "version": 3
   },
   "file_extension": ".py",
   "mimetype": "text/x-python",
   "name": "python",
   "nbconvert_exporter": "python",
   "pygments_lexer": "ipython3",
   "version": "3.7.9"
  },
  "varInspector": {
   "cols": {
    "lenName": 16,
    "lenType": 16,
    "lenVar": 40
   },
   "kernels_config": {
    "python": {
     "delete_cmd_postfix": "",
     "delete_cmd_prefix": "del ",
     "library": "var_list.py",
     "varRefreshCmd": "print(var_dic_list())"
    },
    "r": {
     "delete_cmd_postfix": ") ",
     "delete_cmd_prefix": "rm(",
     "library": "var_list.r",
     "varRefreshCmd": "cat(var_dic_list()) "
    }
   },
   "types_to_exclude": [
    "module",
    "function",
    "builtin_function_or_method",
    "instance",
    "_Feature"
   ],
   "window_display": false
  }
 },
 "nbformat": 4,
 "nbformat_minor": 4
}
